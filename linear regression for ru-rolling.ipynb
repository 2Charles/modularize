{
 "cells": [
  {
   "cell_type": "code",
   "execution_count": 1,
   "metadata": {
    "collapsed": true
   },
   "outputs": [],
   "source": [
    "import corrlab\n",
    "reload(corrlab)\n",
    "import matplotlib.pylab as plt\n",
    "import seaborn as sns\n",
    "import pandas as pd\n",
    "import numpy as np\n",
    "from sklearn.preprocessing import StandardScaler\n",
    "%matplotlib inline"
   ]
  },
  {
   "cell_type": "code",
   "execution_count": 2,
   "metadata": {},
   "outputs": [
    {
     "data": {
      "text/plain": [
       "<module 'linear_regression_for_NI' from 'linear_regression_for_NI.pyc'>"
      ]
     },
     "execution_count": 2,
     "metadata": {},
     "output_type": "execute_result"
    }
   ],
   "source": [
    "import linear_regression_for_NI as ni\n",
    "reload(ni)"
   ]
  },
  {
   "cell_type": "code",
   "execution_count": 3,
   "metadata": {
    "collapsed": true
   },
   "outputs": [],
   "source": [
    "train_start, train_end = '20171113', '20171113'\n",
    "test_start, test_end = '20171114', '20171114'\n",
    "period, lag, target = '1s', '1s', 'ru0'\n",
    "type = 0"
   ]
  },
  {
   "cell_type": "code",
   "execution_count": 4,
   "metadata": {
    "collapsed": true
   },
   "outputs": [],
   "source": [
    "rs = ni.simu(train_start, train_end,test_start, test_end, period, lag, target, type = type)"
   ]
  },
  {
   "cell_type": "code",
   "execution_count": 5,
   "metadata": {},
   "outputs": [
    {
     "name": "stderr",
     "output_type": "stream",
     "text": [
      "/home/hui/anaconda2/lib/python2.7/site-packages/pandas/core/indexing.py:337: SettingWithCopyWarning: \n",
      "A value is trying to be set on a copy of a slice from a DataFrame.\n",
      "Try using .loc[row_indexer,col_indexer] = value instead\n",
      "\n",
      "See the caveats in the documentation: http://pandas.pydata.org/pandas-docs/stable/indexing.html#indexing-view-versus-copy\n",
      "  self.obj[key] = _infer_fill_value(value)\n",
      "/home/hui/anaconda2/lib/python2.7/site-packages/pandas/core/indexing.py:517: SettingWithCopyWarning: \n",
      "A value is trying to be set on a copy of a slice from a DataFrame.\n",
      "Try using .loc[row_indexer,col_indexer] = value instead\n",
      "\n",
      "See the caveats in the documentation: http://pandas.pydata.org/pandas-docs/stable/indexing.html#indexing-view-versus-copy\n",
      "  self.obj[item] = s\n"
     ]
    }
   ],
   "source": [
    "train, test = rs.get_train_test()"
   ]
  },
  {
   "cell_type": "code",
   "execution_count": 15,
   "metadata": {
    "collapsed": true
   },
   "outputs": [],
   "source": [
    "train_volu = rs.corr.getvolu(['20171113'])\n",
    "test_volu = rs.corr.getvolu(['20171114'])"
   ]
  },
  {
   "cell_type": "code",
   "execution_count": 230,
   "metadata": {
    "collapsed": true
   },
   "outputs": [],
   "source": [
    "lag_ = '5s'\n",
    "period_ = '5s'"
   ]
  },
  {
   "cell_type": "code",
   "execution_count": 231,
   "metadata": {
    "collapsed": true
   },
   "outputs": [],
   "source": [
    "shifted_test_volu,shifted_train_volu = rs.shift(test_volu, train_volu,lag = lag_)\n",
    "sampled_test_volu,sampled_train_volu = rs.sample(shifted_test_volu, shifted_train_volu,period = period_)\n"
   ]
  },
  {
   "cell_type": "code",
   "execution_count": 7,
   "metadata": {},
   "outputs": [],
   "source": [
    "sampled_train, sampled_test = rs.sample(train, test,period= period)\n",
    "shifted_train, shifted_test = rs.shift(train, test,lag = lag)\n"
   ]
  },
  {
   "cell_type": "code",
   "execution_count": 19,
   "metadata": {
    "collapsed": true
   },
   "outputs": [],
   "source": [
    "_,only_sampled = rs.sample(train, test, period=period_)"
   ]
  },
  {
   "cell_type": "code",
   "execution_count": 9,
   "metadata": {},
   "outputs": [
    {
     "data": {
      "text/plain": [
       "0.016172093704363805"
      ]
     },
     "execution_count": 9,
     "metadata": {},
     "output_type": "execute_result"
    }
   ],
   "source": [
    "sampled_train.corr()['ru0']['SF0']"
   ]
  },
  {
   "cell_type": "code",
   "execution_count": 242,
   "metadata": {
    "collapsed": true
   },
   "outputs": [],
   "source": [
    "shifted = sampled_test[target].shift(-5,'s')"
   ]
  },
  {
   "cell_type": "code",
   "execution_count": 244,
   "metadata": {},
   "outputs": [
    {
     "data": {
      "text/plain": [
       "2017-11-14 08:59:55   -0.000351\n",
       "2017-11-14 09:00:00    0.000000\n",
       "2017-11-14 09:00:05   -0.002456\n",
       "2017-11-14 09:00:10   -0.000526\n",
       "2017-11-14 09:00:15    0.000000\n",
       "2017-11-14 09:00:20    0.000000\n",
       "2017-11-14 09:00:25    0.000000\n",
       "2017-11-14 09:00:30    0.000000\n",
       "2017-11-14 09:00:35    0.000000\n",
       "2017-11-14 09:00:40   -0.000351\n",
       "2017-11-14 09:00:45    0.000176\n",
       "2017-11-14 09:00:50    0.000000\n",
       "2017-11-14 09:00:55   -0.000351\n",
       "2017-11-14 09:01:00    0.000000\n",
       "2017-11-14 09:01:05    0.000000\n",
       "2017-11-14 09:01:10    0.000000\n",
       "2017-11-14 09:01:15    0.000000\n",
       "2017-11-14 09:01:20    0.000176\n",
       "2017-11-14 09:01:25    0.000352\n",
       "2017-11-14 09:01:30    0.000352\n",
       "2017-11-14 09:01:35   -0.000352\n",
       "2017-11-14 09:01:40    0.000352\n",
       "2017-11-14 09:01:45    0.000000\n",
       "2017-11-14 09:01:50   -0.000352\n",
       "2017-11-14 09:01:55    0.000000\n",
       "2017-11-14 09:02:00    0.000000\n",
       "2017-11-14 09:02:05   -0.001058\n",
       "2017-11-14 09:02:10    0.001951\n",
       "2017-11-14 09:02:15   -0.000177\n",
       "2017-11-14 09:02:20   -0.000177\n",
       "                         ...   \n",
       "2017-11-14 14:57:30    0.000000\n",
       "2017-11-14 14:57:35    0.000000\n",
       "2017-11-14 14:57:40    0.000000\n",
       "2017-11-14 14:57:45    0.000000\n",
       "2017-11-14 14:57:50    0.000000\n",
       "2017-11-14 14:57:55    0.000355\n",
       "2017-11-14 14:58:00    0.000000\n",
       "2017-11-14 14:58:05    0.000000\n",
       "2017-11-14 14:58:10    0.000000\n",
       "2017-11-14 14:58:15   -0.000177\n",
       "2017-11-14 14:58:20    0.000177\n",
       "2017-11-14 14:58:25    0.000000\n",
       "2017-11-14 14:58:30    0.000000\n",
       "2017-11-14 14:58:35    0.000000\n",
       "2017-11-14 14:58:40    0.000000\n",
       "2017-11-14 14:58:45    0.000000\n",
       "2017-11-14 14:58:50    0.000000\n",
       "2017-11-14 14:58:55    0.000000\n",
       "2017-11-14 14:59:00    0.000000\n",
       "2017-11-14 14:59:05    0.000000\n",
       "2017-11-14 14:59:10    0.000000\n",
       "2017-11-14 14:59:15    0.000000\n",
       "2017-11-14 14:59:20    0.000355\n",
       "2017-11-14 14:59:25    0.000000\n",
       "2017-11-14 14:59:30    0.000000\n",
       "2017-11-14 14:59:35    0.000355\n",
       "2017-11-14 14:59:40    0.000000\n",
       "2017-11-14 14:59:45    0.000000\n",
       "2017-11-14 14:59:50    0.000000\n",
       "2017-11-14 14:59:55    0.000000\n",
       "Name: ru0, Length: 2882, dtype: float64"
      ]
     },
     "execution_count": 244,
     "metadata": {},
     "output_type": "execute_result"
    }
   ],
   "source": [
    "shifted"
   ]
  },
  {
   "cell_type": "code",
   "execution_count": 164,
   "metadata": {
    "collapsed": true
   },
   "outputs": [],
   "source": [
    "use_col = sampled_test.corr()[abs(sampled_test.corr()['ru0'])>0.2].index.values\n",
    "use_col = list(use_col)\n",
    "use_col.remove(target)"
   ]
  },
  {
   "cell_type": "code",
   "execution_count": 203,
   "metadata": {},
   "outputs": [
    {
     "data": {
      "image/png": "[encoded data removed]",
      "text/plain": [
       "<matplotlib.figure.Figure at 0x7f5ed0d4bf50>"
      ]
     },
     "metadata": {},
     "output_type": "display_data"
    }
   ],
   "source": [
    "# sampled_train[target].plot()\n",
    "plt.scatter(sampled_test[target]*10,sampled_test['al0']*10)\n",
    "plt.xticks(rotation = 45)\n",
    "plt.xlim(-0.015,0.015)\n",
    "plt.ylim(-0.01,0.01)\n",
    "plt.show()"
   ]
  },
  {
   "cell_type": "code",
   "execution_count": 213,
   "metadata": {},
   "outputs": [
    {
     "data": {
      "image/png": "[encoded data removed]",
      "text/plain": [
       "<matplotlib.figure.Figure at 0x7f5ecfc66a90>"
      ]
     },
     "metadata": {},
     "output_type": "display_data"
    }
   ],
   "source": [
    "plt.plot(sampled_test[target].values[:200],label = target)\n",
    "plt.plot(sampled_test['al0'].values[:200], label = 'al0')\n",
    "plt.legend()\n",
    "plt.show()"
   ]
  },
  {
   "cell_type": "code",
   "execution_count": 216,
   "metadata": {},
   "outputs": [
    {
     "data": {
      "text/plain": [
       "(2882, 39)"
      ]
     },
     "execution_count": 216,
     "metadata": {},
     "output_type": "execute_result"
    }
   ],
   "source": []
  },
  {
   "cell_type": "code",
   "execution_count": 129,
   "metadata": {
    "collapsed": true
   },
   "outputs": [],
   "source": [
    "train_x = pd.concat([sampled_train[use_col],sampled_train_volu[use_col]],axis=1)\n",
    "train_y = sampled_train[target]"
   ]
  },
  {
   "cell_type": "code",
   "execution_count": 177,
   "metadata": {
    "collapsed": true
   },
   "outputs": [],
   "source": [
    "train_x = (train_x - train_x.mean())/(train_x.std())\n",
    "# train_y = (train_y - train_y.mean())/(train_y.std())"
   ]
  },
  {
   "cell_type": "code",
   "execution_count": 189,
   "metadata": {
    "collapsed": true
   },
   "outputs": [],
   "source": [
    "# test_x = pd.concat([sampled_test[use_col],sampled_test_volu[use_col]],axis=1)\n",
    "test_x = sampled_test[use_col]\n",
    "test_y = sampled_test[target]"
   ]
  },
  {
   "cell_type": "code",
   "execution_count": 185,
   "metadata": {
    "collapsed": true
   },
   "outputs": [],
   "source": [
    "test_x = (test_x - test_x.mean())/(test_x.std())\n",
    "# train_y = (train_y - train_y.mean())/(train_y.std())"
   ]
  },
  {
   "cell_type": "code",
   "execution_count": 218,
   "metadata": {
    "collapsed": true
   },
   "outputs": [],
   "source": [
    "dic = rs.countNozero(sampled_test)\n",
    "filt = rs.filternum(sampled_test, threshold=0.1)"
   ]
  },
  {
   "cell_type": "code",
   "execution_count": 220,
   "metadata": {},
   "outputs": [
    {
     "data": {
      "text/plain": [
       "{'SF0'}"
      ]
     },
     "execution_count": 220,
     "metadata": {},
     "output_type": "execute_result"
    }
   ],
   "source": [
    "set(filt) & set(use_col)"
   ]
  },
  {
   "cell_type": "code",
   "execution_count": 192,
   "metadata": {},
   "outputs": [
    {
     "name": "stdout",
     "output_type": "stream",
     "text": [
      "alpha: 0.0\n",
      "train score: 0.268789619267\n"
     ]
    }
   ],
   "source": [
    "from sklearn.linear_model import  RidgeCV, Ridge\n",
    "clf = RidgeCV(alphas=np.arange(0,50,0.1) ,normalize=False)\n",
    "clf.fit(test_x, test_y)\n",
    "print 'alpha:', clf.alpha_\n",
    "clf = Ridge(alpha=clf.alpha_,normalize=True, max_iter=1000)\n",
    "clf.fit(test_x, test_y)\n",
    "# print 'coef:', clf.coef_\n",
    "print 'train score:',clf.score(test_x, test_y)"
   ]
  },
  {
   "cell_type": "code",
   "execution_count": 193,
   "metadata": {},
   "outputs": [
    {
     "name": "stdout",
     "output_type": "stream",
     "text": [
      "[ 0.33079956 -0.23413714  0.29775822  0.21537526 -0.0754807 ]\n"
     ]
    }
   ],
   "source": [
    "print clf.coef_"
   ]
  },
  {
   "cell_type": "code",
   "execution_count": 188,
   "metadata": {
    "collapsed": true
   },
   "outputs": [
    {
     "data": {
      "text/html": [
       "<div>\n",
       "<style>\n",
       "    .dataframe thead tr:only-child th {\n",
       "        text-align: right;\n",
       "    }\n",
       "\n",
       "    .dataframe thead th {\n",
       "        text-align: left;\n",
       "    }\n",
       "\n",
       "    .dataframe tbody tr th {\n",
       "        vertical-align: top;\n",
       "    }\n",
       "</style>\n",
       "<table border=\"1\" class=\"dataframe\">\n",
       "  <thead>\n",
       "    <tr style=\"text-align: right;\">\n",
       "      <th></th>\n",
       "      <th>al0</th>\n",
       "      <th>c10</th>\n",
       "      <th>a10</th>\n",
       "      <th>OI0</th>\n",
       "      <th>SF0</th>\n",
       "      <th>al0</th>\n",
       "      <th>c10</th>\n",
       "      <th>a10</th>\n",
       "      <th>OI0</th>\n",
       "      <th>SF0</th>\n",
       "    </tr>\n",
       "  </thead>\n",
       "  <tbody>\n",
       "    <tr>\n",
       "      <th>2017-11-14 09:00:00</th>\n",
       "      <td>-0.178481</td>\n",
       "      <td>0.165485</td>\n",
       "      <td>-0.158089</td>\n",
       "      <td>-0.145114</td>\n",
       "      <td>0.128770</td>\n",
       "      <td>-1.390188</td>\n",
       "      <td>-1.233385</td>\n",
       "      <td>2.674848</td>\n",
       "      <td>-1.011386</td>\n",
       "      <td>-0.555966</td>\n",
       "    </tr>\n",
       "    <tr>\n",
       "      <th>2017-11-14 09:00:05</th>\n",
       "      <td>1.311563</td>\n",
       "      <td>0.165485</td>\n",
       "      <td>-0.158089</td>\n",
       "      <td>-0.145114</td>\n",
       "      <td>-14.510381</td>\n",
       "      <td>-1.256237</td>\n",
       "      <td>-1.309730</td>\n",
       "      <td>-1.288868</td>\n",
       "      <td>-1.366595</td>\n",
       "      <td>0.358080</td>\n",
       "    </tr>\n",
       "    <tr>\n",
       "      <th>2017-11-14 09:00:10</th>\n",
       "      <td>-0.178481</td>\n",
       "      <td>11.260935</td>\n",
       "      <td>4.784574</td>\n",
       "      <td>-0.145114</td>\n",
       "      <td>1.104713</td>\n",
       "      <td>-1.300888</td>\n",
       "      <td>0.726853</td>\n",
       "      <td>-0.680484</td>\n",
       "      <td>1.723727</td>\n",
       "      <td>-0.698786</td>\n",
       "    </tr>\n",
       "    <tr>\n",
       "      <th>2017-11-14 09:00:15</th>\n",
       "      <td>-0.178481</td>\n",
       "      <td>0.165485</td>\n",
       "      <td>-0.158089</td>\n",
       "      <td>-0.145114</td>\n",
       "      <td>0.128770</td>\n",
       "      <td>-1.412513</td>\n",
       "      <td>-1.135534</td>\n",
       "      <td>-0.698920</td>\n",
       "      <td>1.261955</td>\n",
       "      <td>-0.641658</td>\n",
       "    </tr>\n",
       "    <tr>\n",
       "      <th>2017-11-14 09:00:20</th>\n",
       "      <td>2.801606</td>\n",
       "      <td>0.165485</td>\n",
       "      <td>-0.158089</td>\n",
       "      <td>-0.145114</td>\n",
       "      <td>-0.847174</td>\n",
       "      <td>-1.122286</td>\n",
       "      <td>-0.934457</td>\n",
       "      <td>-0.901715</td>\n",
       "      <td>0.409452</td>\n",
       "      <td>-0.698786</td>\n",
       "    </tr>\n",
       "    <tr>\n",
       "      <th>2017-11-14 09:00:25</th>\n",
       "      <td>-0.178481</td>\n",
       "      <td>0.165485</td>\n",
       "      <td>-5.100753</td>\n",
       "      <td>-0.145114</td>\n",
       "      <td>0.128770</td>\n",
       "      <td>-1.122286</td>\n",
       "      <td>-0.984995</td>\n",
       "      <td>-1.104509</td>\n",
       "      <td>-0.549613</td>\n",
       "      <td>-0.527402</td>\n",
       "    </tr>\n",
       "    <tr>\n",
       "      <th>2017-11-14 09:00:30</th>\n",
       "      <td>-0.178481</td>\n",
       "      <td>0.165485</td>\n",
       "      <td>-0.158089</td>\n",
       "      <td>-0.145114</td>\n",
       "      <td>0.128770</td>\n",
       "      <td>-1.211587</td>\n",
       "      <td>-0.515097</td>\n",
       "      <td>-0.791099</td>\n",
       "      <td>-1.046907</td>\n",
       "      <td>-0.698786</td>\n",
       "    </tr>\n",
       "    <tr>\n",
       "      <th>2017-11-14 09:00:35</th>\n",
       "      <td>-0.178481</td>\n",
       "      <td>0.165485</td>\n",
       "      <td>-0.158089</td>\n",
       "      <td>-0.145114</td>\n",
       "      <td>0.128770</td>\n",
       "      <td>-1.189262</td>\n",
       "      <td>-0.958113</td>\n",
       "      <td>-0.403946</td>\n",
       "      <td>-0.833781</td>\n",
       "      <td>-0.555966</td>\n",
       "    </tr>\n",
       "    <tr>\n",
       "      <th>2017-11-14 09:00:40</th>\n",
       "      <td>-0.178481</td>\n",
       "      <td>0.165485</td>\n",
       "      <td>-0.158089</td>\n",
       "      <td>-0.145114</td>\n",
       "      <td>-1.826303</td>\n",
       "      <td>-1.144611</td>\n",
       "      <td>-0.629077</td>\n",
       "      <td>-1.288868</td>\n",
       "      <td>-0.762739</td>\n",
       "      <td>-0.527402</td>\n",
       "    </tr>\n",
       "    <tr>\n",
       "      <th>2017-11-14 09:00:45</th>\n",
       "      <td>-0.178481</td>\n",
       "      <td>0.165485</td>\n",
       "      <td>-2.628747</td>\n",
       "      <td>-2.232380</td>\n",
       "      <td>0.128770</td>\n",
       "      <td>-1.144611</td>\n",
       "      <td>-0.452731</td>\n",
       "      <td>-0.403946</td>\n",
       "      <td>-1.331074</td>\n",
       "      <td>0.072441</td>\n",
       "    </tr>\n",
       "    <tr>\n",
       "      <th>2017-11-14 09:00:50</th>\n",
       "      <td>-0.178481</td>\n",
       "      <td>0.165485</td>\n",
       "      <td>-0.158089</td>\n",
       "      <td>-0.145114</td>\n",
       "      <td>-1.823985</td>\n",
       "      <td>-0.988335</td>\n",
       "      <td>-0.555958</td>\n",
       "      <td>-0.016792</td>\n",
       "      <td>-1.188991</td>\n",
       "      <td>-0.698786</td>\n",
       "    </tr>\n",
       "    <tr>\n",
       "      <th>2017-11-14 09:00:55</th>\n",
       "      <td>-0.178481</td>\n",
       "      <td>0.165485</td>\n",
       "      <td>-0.158089</td>\n",
       "      <td>-0.145114</td>\n",
       "      <td>-0.847463</td>\n",
       "      <td>-0.988335</td>\n",
       "      <td>-0.615098</td>\n",
       "      <td>0.775951</td>\n",
       "      <td>-0.904823</td>\n",
       "      <td>-0.698786</td>\n",
       "    </tr>\n",
       "    <tr>\n",
       "      <th>2017-11-14 09:01:00</th>\n",
       "      <td>-0.178481</td>\n",
       "      <td>0.165485</td>\n",
       "      <td>-0.158089</td>\n",
       "      <td>4.030038</td>\n",
       "      <td>1.105002</td>\n",
       "      <td>-1.032985</td>\n",
       "      <td>-0.626926</td>\n",
       "      <td>0.315054</td>\n",
       "      <td>0.622578</td>\n",
       "      <td>1.100743</td>\n",
       "    </tr>\n",
       "    <tr>\n",
       "      <th>2017-11-14 09:01:05</th>\n",
       "      <td>-0.178481</td>\n",
       "      <td>0.165485</td>\n",
       "      <td>-0.158089</td>\n",
       "      <td>-4.319026</td>\n",
       "      <td>-1.821384</td>\n",
       "      <td>-0.809733</td>\n",
       "      <td>-0.668862</td>\n",
       "      <td>3.062001</td>\n",
       "      <td>-0.620655</td>\n",
       "      <td>-0.584530</td>\n",
       "    </tr>\n",
       "    <tr>\n",
       "      <th>2017-11-14 09:01:10</th>\n",
       "      <td>-0.178481</td>\n",
       "      <td>0.165485</td>\n",
       "      <td>-0.158089</td>\n",
       "      <td>1.942152</td>\n",
       "      <td>0.128770</td>\n",
       "      <td>-1.457164</td>\n",
       "      <td>-0.674239</td>\n",
       "      <td>-0.182715</td>\n",
       "      <td>0.338410</td>\n",
       "      <td>0.129569</td>\n",
       "    </tr>\n",
       "    <tr>\n",
       "      <th>2017-11-14 09:01:15</th>\n",
       "      <td>-0.178481</td>\n",
       "      <td>5.723090</td>\n",
       "      <td>-0.158089</td>\n",
       "      <td>-0.145114</td>\n",
       "      <td>4.027345</td>\n",
       "      <td>-0.564156</td>\n",
       "      <td>-0.902198</td>\n",
       "      <td>-0.569869</td>\n",
       "      <td>-0.514092</td>\n",
       "      <td>-0.470274</td>\n",
       "    </tr>\n",
       "    <tr>\n",
       "      <th>2017-11-14 09:01:20</th>\n",
       "      <td>-0.178481</td>\n",
       "      <td>0.165485</td>\n",
       "      <td>-0.158089</td>\n",
       "      <td>-0.145114</td>\n",
       "      <td>-0.845298</td>\n",
       "      <td>-0.363230</td>\n",
       "      <td>-0.653808</td>\n",
       "      <td>-0.754227</td>\n",
       "      <td>-0.549613</td>\n",
       "      <td>-0.613094</td>\n",
       "    </tr>\n",
       "    <tr>\n",
       "      <th>2017-11-14 09:01:25</th>\n",
       "      <td>-0.178481</td>\n",
       "      <td>0.165485</td>\n",
       "      <td>-0.158089</td>\n",
       "      <td>-0.145114</td>\n",
       "      <td>0.128770</td>\n",
       "      <td>-0.229279</td>\n",
       "      <td>-0.253804</td>\n",
       "      <td>-0.957022</td>\n",
       "      <td>-1.153470</td>\n",
       "      <td>2.300429</td>\n",
       "    </tr>\n",
       "    <tr>\n",
       "      <th>2017-11-14 09:01:30</th>\n",
       "      <td>-0.178481</td>\n",
       "      <td>0.165485</td>\n",
       "      <td>-0.158089</td>\n",
       "      <td>-0.145114</td>\n",
       "      <td>-2.794297</td>\n",
       "      <td>-0.854384</td>\n",
       "      <td>-0.580689</td>\n",
       "      <td>-0.662048</td>\n",
       "      <td>-1.260032</td>\n",
       "      <td>-0.384583</td>\n",
       "    </tr>\n",
       "    <tr>\n",
       "      <th>2017-11-14 09:01:35</th>\n",
       "      <td>-0.178481</td>\n",
       "      <td>0.165485</td>\n",
       "      <td>-0.158089</td>\n",
       "      <td>4.028798</td>\n",
       "      <td>0.128770</td>\n",
       "      <td>-0.273929</td>\n",
       "      <td>-0.910800</td>\n",
       "      <td>-0.864843</td>\n",
       "      <td>1.794769</td>\n",
       "      <td>0.272388</td>\n",
       "    </tr>\n",
       "    <tr>\n",
       "      <th>2017-11-14 09:01:40</th>\n",
       "      <td>-0.178481</td>\n",
       "      <td>0.165485</td>\n",
       "      <td>-0.158089</td>\n",
       "      <td>1.941222</td>\n",
       "      <td>3.048813</td>\n",
       "      <td>-0.363230</td>\n",
       "      <td>-1.130158</td>\n",
       "      <td>-0.993894</td>\n",
       "      <td>0.409452</td>\n",
       "      <td>-0.441710</td>\n",
       "    </tr>\n",
       "    <tr>\n",
       "      <th>2017-11-14 09:01:45</th>\n",
       "      <td>-0.178481</td>\n",
       "      <td>0.165485</td>\n",
       "      <td>-0.158089</td>\n",
       "      <td>-0.145114</td>\n",
       "      <td>1.101255</td>\n",
       "      <td>-1.323213</td>\n",
       "      <td>-0.594668</td>\n",
       "      <td>-1.012330</td>\n",
       "      <td>-0.656176</td>\n",
       "      <td>-0.641658</td>\n",
       "    </tr>\n",
       "    <tr>\n",
       "      <th>2017-11-14 09:01:50</th>\n",
       "      <td>-0.178481</td>\n",
       "      <td>0.165485</td>\n",
       "      <td>-0.158089</td>\n",
       "      <td>-0.145114</td>\n",
       "      <td>1.100108</td>\n",
       "      <td>-0.988335</td>\n",
       "      <td>-0.617249</td>\n",
       "      <td>-0.403946</td>\n",
       "      <td>-1.437637</td>\n",
       "      <td>-0.555966</td>\n",
       "    </tr>\n",
       "    <tr>\n",
       "      <th>2017-11-14 09:01:55</th>\n",
       "      <td>-0.178481</td>\n",
       "      <td>0.165485</td>\n",
       "      <td>-0.158089</td>\n",
       "      <td>-0.145114</td>\n",
       "      <td>0.128770</td>\n",
       "      <td>-1.412513</td>\n",
       "      <td>-0.684991</td>\n",
       "      <td>0.056952</td>\n",
       "      <td>-0.940344</td>\n",
       "      <td>-0.613094</td>\n",
       "    </tr>\n",
       "    <tr>\n",
       "      <th>2017-11-14 09:02:00</th>\n",
       "      <td>-0.178481</td>\n",
       "      <td>0.165485</td>\n",
       "      <td>-0.158089</td>\n",
       "      <td>-0.145114</td>\n",
       "      <td>-3.758304</td>\n",
       "      <td>-0.631132</td>\n",
       "      <td>-0.686067</td>\n",
       "      <td>-0.569869</td>\n",
       "      <td>-0.975865</td>\n",
       "      <td>-0.498838</td>\n",
       "    </tr>\n",
       "    <tr>\n",
       "      <th>2017-11-14 09:02:05</th>\n",
       "      <td>-0.178481</td>\n",
       "      <td>0.165485</td>\n",
       "      <td>-0.158089</td>\n",
       "      <td>-0.145114</td>\n",
       "      <td>4.020435</td>\n",
       "      <td>-0.162303</td>\n",
       "      <td>-0.698970</td>\n",
       "      <td>0.573157</td>\n",
       "      <td>-0.265446</td>\n",
       "      <td>-0.555966</td>\n",
       "    </tr>\n",
       "    <tr>\n",
       "      <th>2017-11-14 09:02:10</th>\n",
       "      <td>-0.178481</td>\n",
       "      <td>0.165485</td>\n",
       "      <td>-0.158089</td>\n",
       "      <td>-0.145114</td>\n",
       "      <td>1.101686</td>\n",
       "      <td>-0.787408</td>\n",
       "      <td>-0.787143</td>\n",
       "      <td>-0.883279</td>\n",
       "      <td>-0.087841</td>\n",
       "      <td>-0.184635</td>\n",
       "    </tr>\n",
       "    <tr>\n",
       "      <th>2017-11-14 09:02:15</th>\n",
       "      <td>-3.161441</td>\n",
       "      <td>0.165485</td>\n",
       "      <td>-0.158089</td>\n",
       "      <td>-4.319026</td>\n",
       "      <td>-0.843286</td>\n",
       "      <td>-0.028352</td>\n",
       "      <td>-0.881768</td>\n",
       "      <td>0.149131</td>\n",
       "      <td>-1.473158</td>\n",
       "      <td>2.243301</td>\n",
       "    </tr>\n",
       "    <tr>\n",
       "      <th>2017-11-14 09:02:20</th>\n",
       "      <td>-0.178481</td>\n",
       "      <td>0.165485</td>\n",
       "      <td>-0.158089</td>\n",
       "      <td>6.117613</td>\n",
       "      <td>2.073454</td>\n",
       "      <td>-0.586482</td>\n",
       "      <td>-0.901123</td>\n",
       "      <td>-0.090535</td>\n",
       "      <td>-0.514092</td>\n",
       "      <td>1.329255</td>\n",
       "    </tr>\n",
       "    <tr>\n",
       "      <th>2017-11-14 09:02:25</th>\n",
       "      <td>-0.178481</td>\n",
       "      <td>0.165485</td>\n",
       "      <td>-0.158089</td>\n",
       "      <td>-0.145114</td>\n",
       "      <td>0.128770</td>\n",
       "      <td>-0.541831</td>\n",
       "      <td>-0.968866</td>\n",
       "      <td>-0.145843</td>\n",
       "      <td>-0.833781</td>\n",
       "      <td>-0.670222</td>\n",
       "    </tr>\n",
       "    <tr>\n",
       "      <th>...</th>\n",
       "      <td>...</td>\n",
       "      <td>...</td>\n",
       "      <td>...</td>\n",
       "      <td>...</td>\n",
       "      <td>...</td>\n",
       "      <td>...</td>\n",
       "      <td>...</td>\n",
       "      <td>...</td>\n",
       "      <td>...</td>\n",
       "      <td>...</td>\n",
       "    </tr>\n",
       "    <tr>\n",
       "      <th>2017-11-14 14:57:35</th>\n",
       "      <td>-0.178481</td>\n",
       "      <td>0.165485</td>\n",
       "      <td>-0.158089</td>\n",
       "      <td>-0.145114</td>\n",
       "      <td>-0.845442</td>\n",
       "      <td>1.177208</td>\n",
       "      <td>-1.396827</td>\n",
       "      <td>1.070926</td>\n",
       "      <td>0.622578</td>\n",
       "      <td>-0.184635</td>\n",
       "    </tr>\n",
       "    <tr>\n",
       "      <th>2017-11-14 14:57:40</th>\n",
       "      <td>-0.178481</td>\n",
       "      <td>0.165485</td>\n",
       "      <td>-0.158089</td>\n",
       "      <td>4.025083</td>\n",
       "      <td>0.128770</td>\n",
       "      <td>0.998607</td>\n",
       "      <td>-0.354880</td>\n",
       "      <td>0.978746</td>\n",
       "      <td>0.480494</td>\n",
       "      <td>-0.098943</td>\n",
       "    </tr>\n",
       "    <tr>\n",
       "      <th>2017-11-14 14:57:45</th>\n",
       "      <td>-0.178481</td>\n",
       "      <td>0.165485</td>\n",
       "      <td>-0.158089</td>\n",
       "      <td>-0.145114</td>\n",
       "      <td>0.128770</td>\n",
       "      <td>0.663729</td>\n",
       "      <td>-1.391451</td>\n",
       "      <td>1.070926</td>\n",
       "      <td>1.439560</td>\n",
       "      <td>-0.156071</td>\n",
       "    </tr>\n",
       "    <tr>\n",
       "      <th>2017-11-14 14:57:50</th>\n",
       "      <td>-0.178481</td>\n",
       "      <td>0.165485</td>\n",
       "      <td>-0.158089</td>\n",
       "      <td>-0.145114</td>\n",
       "      <td>0.128770</td>\n",
       "      <td>0.641404</td>\n",
       "      <td>-1.412957</td>\n",
       "      <td>1.310592</td>\n",
       "      <td>-1.366595</td>\n",
       "      <td>-0.298891</td>\n",
       "    </tr>\n",
       "    <tr>\n",
       "      <th>2017-11-14 14:57:55</th>\n",
       "      <td>-0.178481</td>\n",
       "      <td>0.165485</td>\n",
       "      <td>-0.158089</td>\n",
       "      <td>1.939984</td>\n",
       "      <td>0.128770</td>\n",
       "      <td>-0.229279</td>\n",
       "      <td>-1.315106</td>\n",
       "      <td>1.126233</td>\n",
       "      <td>1.439560</td>\n",
       "      <td>-0.270327</td>\n",
       "    </tr>\n",
       "    <tr>\n",
       "      <th>2017-11-14 14:58:00</th>\n",
       "      <td>-0.178481</td>\n",
       "      <td>0.165485</td>\n",
       "      <td>-0.158089</td>\n",
       "      <td>-0.145114</td>\n",
       "      <td>0.128770</td>\n",
       "      <td>-0.631132</td>\n",
       "      <td>-1.231234</td>\n",
       "      <td>0.536285</td>\n",
       "      <td>-1.153470</td>\n",
       "      <td>-0.270327</td>\n",
       "    </tr>\n",
       "    <tr>\n",
       "      <th>2017-11-14 14:58:05</th>\n",
       "      <td>-0.178481</td>\n",
       "      <td>0.165485</td>\n",
       "      <td>-0.158089</td>\n",
       "      <td>-0.145114</td>\n",
       "      <td>1.103269</td>\n",
       "      <td>-1.122286</td>\n",
       "      <td>-1.316181</td>\n",
       "      <td>0.978746</td>\n",
       "      <td>-1.011386</td>\n",
       "      <td>-0.327455</td>\n",
       "    </tr>\n",
       "    <tr>\n",
       "      <th>2017-11-14 14:58:10</th>\n",
       "      <td>-0.178481</td>\n",
       "      <td>0.165485</td>\n",
       "      <td>-0.158089</td>\n",
       "      <td>-0.145114</td>\n",
       "      <td>0.128770</td>\n",
       "      <td>-0.631132</td>\n",
       "      <td>-1.231234</td>\n",
       "      <td>-1.196689</td>\n",
       "      <td>-0.549613</td>\n",
       "      <td>-0.241763</td>\n",
       "    </tr>\n",
       "    <tr>\n",
       "      <th>2017-11-14 14:58:15</th>\n",
       "      <td>-0.178481</td>\n",
       "      <td>0.165485</td>\n",
       "      <td>-0.158089</td>\n",
       "      <td>-0.145114</td>\n",
       "      <td>0.128770</td>\n",
       "      <td>-0.139978</td>\n",
       "      <td>-1.325859</td>\n",
       "      <td>-0.403946</td>\n",
       "      <td>-0.727218</td>\n",
       "      <td>-0.413147</td>\n",
       "    </tr>\n",
       "    <tr>\n",
       "      <th>2017-11-14 14:58:20</th>\n",
       "      <td>-0.178481</td>\n",
       "      <td>0.165485</td>\n",
       "      <td>-10.111357</td>\n",
       "      <td>-0.145114</td>\n",
       "      <td>0.128770</td>\n",
       "      <td>-0.631132</td>\n",
       "      <td>-1.273170</td>\n",
       "      <td>0.222875</td>\n",
       "      <td>-0.052320</td>\n",
       "      <td>-0.413147</td>\n",
       "    </tr>\n",
       "    <tr>\n",
       "      <th>2017-11-14 14:58:25</th>\n",
       "      <td>-3.176854</td>\n",
       "      <td>0.165485</td>\n",
       "      <td>-0.158089</td>\n",
       "      <td>-0.145114</td>\n",
       "      <td>0.128770</td>\n",
       "      <td>-1.501814</td>\n",
       "      <td>-1.225858</td>\n",
       "      <td>0.001644</td>\n",
       "      <td>-1.011386</td>\n",
       "      <td>-0.441710</td>\n",
       "    </tr>\n",
       "    <tr>\n",
       "      <th>2017-11-14 14:58:30</th>\n",
       "      <td>-0.178481</td>\n",
       "      <td>0.165485</td>\n",
       "      <td>-5.137461</td>\n",
       "      <td>-0.145114</td>\n",
       "      <td>0.128770</td>\n",
       "      <td>-0.229279</td>\n",
       "      <td>-0.967790</td>\n",
       "      <td>4.647488</td>\n",
       "      <td>-0.691697</td>\n",
       "      <td>-0.384583</td>\n",
       "    </tr>\n",
       "    <tr>\n",
       "      <th>2017-11-14 14:58:35</th>\n",
       "      <td>-0.178481</td>\n",
       "      <td>0.165485</td>\n",
       "      <td>-0.158089</td>\n",
       "      <td>1.940603</td>\n",
       "      <td>1.102981</td>\n",
       "      <td>-0.497181</td>\n",
       "      <td>-0.858112</td>\n",
       "      <td>4.868718</td>\n",
       "      <td>-0.478571</td>\n",
       "      <td>-0.184635</td>\n",
       "    </tr>\n",
       "    <tr>\n",
       "      <th>2017-11-14 14:58:40</th>\n",
       "      <td>-0.178481</td>\n",
       "      <td>0.165485</td>\n",
       "      <td>-0.158089</td>\n",
       "      <td>-0.145114</td>\n",
       "      <td>0.128770</td>\n",
       "      <td>-0.921359</td>\n",
       "      <td>-0.828004</td>\n",
       "      <td>-0.772663</td>\n",
       "      <td>-0.336488</td>\n",
       "      <td>-0.213199</td>\n",
       "    </tr>\n",
       "    <tr>\n",
       "      <th>2017-11-14 14:58:45</th>\n",
       "      <td>-0.178481</td>\n",
       "      <td>0.165485</td>\n",
       "      <td>-0.158089</td>\n",
       "      <td>-0.145114</td>\n",
       "      <td>0.128770</td>\n",
       "      <td>-0.765083</td>\n",
       "      <td>-0.764562</td>\n",
       "      <td>-1.288868</td>\n",
       "      <td>-0.336488</td>\n",
       "      <td>-0.298891</td>\n",
       "    </tr>\n",
       "    <tr>\n",
       "      <th>2017-11-14 14:58:50</th>\n",
       "      <td>-0.178481</td>\n",
       "      <td>0.165485</td>\n",
       "      <td>-0.158089</td>\n",
       "      <td>-0.145114</td>\n",
       "      <td>0.128770</td>\n",
       "      <td>0.194900</td>\n",
       "      <td>-0.662410</td>\n",
       "      <td>4.610616</td>\n",
       "      <td>-0.620655</td>\n",
       "      <td>-0.527402</td>\n",
       "    </tr>\n",
       "    <tr>\n",
       "      <th>2017-11-14 14:58:55</th>\n",
       "      <td>-0.178481</td>\n",
       "      <td>0.165485</td>\n",
       "      <td>-0.158089</td>\n",
       "      <td>-0.145114</td>\n",
       "      <td>-0.845154</td>\n",
       "      <td>0.194900</td>\n",
       "      <td>-0.668862</td>\n",
       "      <td>4.241898</td>\n",
       "      <td>-0.514092</td>\n",
       "      <td>0.101005</td>\n",
       "    </tr>\n",
       "    <tr>\n",
       "      <th>2017-11-14 14:59:00</th>\n",
       "      <td>-0.178481</td>\n",
       "      <td>0.165485</td>\n",
       "      <td>-2.648803</td>\n",
       "      <td>-0.145114</td>\n",
       "      <td>0.128770</td>\n",
       "      <td>0.552103</td>\n",
       "      <td>-0.623700</td>\n",
       "      <td>-1.344176</td>\n",
       "      <td>-0.229925</td>\n",
       "      <td>-0.584530</td>\n",
       "    </tr>\n",
       "    <tr>\n",
       "      <th>2017-11-14 14:59:05</th>\n",
       "      <td>-0.178481</td>\n",
       "      <td>0.165485</td>\n",
       "      <td>-0.158089</td>\n",
       "      <td>-0.145114</td>\n",
       "      <td>0.128770</td>\n",
       "      <td>-0.184628</td>\n",
       "      <td>-0.479613</td>\n",
       "      <td>-1.030766</td>\n",
       "      <td>-0.798260</td>\n",
       "      <td>-0.241763</td>\n",
       "    </tr>\n",
       "    <tr>\n",
       "      <th>2017-11-14 14:59:10</th>\n",
       "      <td>-0.178481</td>\n",
       "      <td>0.165485</td>\n",
       "      <td>-0.158089</td>\n",
       "      <td>1.940603</td>\n",
       "      <td>0.128770</td>\n",
       "      <td>0.083274</td>\n",
       "      <td>-0.359181</td>\n",
       "      <td>1.439643</td>\n",
       "      <td>-0.727218</td>\n",
       "      <td>-0.241763</td>\n",
       "    </tr>\n",
       "    <tr>\n",
       "      <th>2017-11-14 14:59:15</th>\n",
       "      <td>-0.178481</td>\n",
       "      <td>0.165485</td>\n",
       "      <td>-0.158089</td>\n",
       "      <td>-0.145114</td>\n",
       "      <td>0.128770</td>\n",
       "      <td>0.038624</td>\n",
       "      <td>-0.321546</td>\n",
       "      <td>1.365900</td>\n",
       "      <td>-0.656176</td>\n",
       "      <td>-0.327455</td>\n",
       "    </tr>\n",
       "    <tr>\n",
       "      <th>2017-11-14 14:59:20</th>\n",
       "      <td>-0.178481</td>\n",
       "      <td>0.165485</td>\n",
       "      <td>-0.158089</td>\n",
       "      <td>-0.145114</td>\n",
       "      <td>0.128770</td>\n",
       "      <td>0.641404</td>\n",
       "      <td>-0.225846</td>\n",
       "      <td>-0.330202</td>\n",
       "      <td>-0.585134</td>\n",
       "      <td>-0.613094</td>\n",
       "    </tr>\n",
       "    <tr>\n",
       "      <th>2017-11-14 14:59:25</th>\n",
       "      <td>-1.678636</td>\n",
       "      <td>0.165485</td>\n",
       "      <td>-0.158089</td>\n",
       "      <td>-0.145114</td>\n",
       "      <td>0.128770</td>\n",
       "      <td>0.373501</td>\n",
       "      <td>-0.130146</td>\n",
       "      <td>-0.901715</td>\n",
       "      <td>-1.011386</td>\n",
       "      <td>4.585545</td>\n",
       "    </tr>\n",
       "    <tr>\n",
       "      <th>2017-11-14 14:59:30</th>\n",
       "      <td>1.321917</td>\n",
       "      <td>0.165485</td>\n",
       "      <td>-0.158089</td>\n",
       "      <td>1.940603</td>\n",
       "      <td>0.128770</td>\n",
       "      <td>0.641404</td>\n",
       "      <td>-0.001113</td>\n",
       "      <td>1.439643</td>\n",
       "      <td>-0.549613</td>\n",
       "      <td>-0.670222</td>\n",
       "    </tr>\n",
       "    <tr>\n",
       "      <th>2017-11-14 14:59:35</th>\n",
       "      <td>-0.178481</td>\n",
       "      <td>0.165485</td>\n",
       "      <td>-0.158089</td>\n",
       "      <td>-0.145114</td>\n",
       "      <td>0.128770</td>\n",
       "      <td>-0.251604</td>\n",
       "      <td>-0.027995</td>\n",
       "      <td>-0.772663</td>\n",
       "      <td>-0.549613</td>\n",
       "      <td>5.356772</td>\n",
       "    </tr>\n",
       "    <tr>\n",
       "      <th>2017-11-14 14:59:40</th>\n",
       "      <td>-0.178481</td>\n",
       "      <td>0.165485</td>\n",
       "      <td>-0.158089</td>\n",
       "      <td>-0.145114</td>\n",
       "      <td>0.128770</td>\n",
       "      <td>-0.497181</td>\n",
       "      <td>-0.057027</td>\n",
       "      <td>-0.551433</td>\n",
       "      <td>-1.224511</td>\n",
       "      <td>-0.498838</td>\n",
       "    </tr>\n",
       "    <tr>\n",
       "      <th>2017-11-14 14:59:45</th>\n",
       "      <td>-0.178481</td>\n",
       "      <td>0.165485</td>\n",
       "      <td>-0.158089</td>\n",
       "      <td>-0.145114</td>\n",
       "      <td>0.128770</td>\n",
       "      <td>-0.474856</td>\n",
       "      <td>-0.757035</td>\n",
       "      <td>-0.440817</td>\n",
       "      <td>-1.437637</td>\n",
       "      <td>5.299644</td>\n",
       "    </tr>\n",
       "    <tr>\n",
       "      <th>2017-11-14 14:59:50</th>\n",
       "      <td>-0.178481</td>\n",
       "      <td>0.165485</td>\n",
       "      <td>-0.158089</td>\n",
       "      <td>-0.145114</td>\n",
       "      <td>0.128770</td>\n",
       "      <td>-1.166936</td>\n",
       "      <td>-0.111867</td>\n",
       "      <td>-0.514561</td>\n",
       "      <td>-0.833781</td>\n",
       "      <td>7.441940</td>\n",
       "    </tr>\n",
       "    <tr>\n",
       "      <th>2017-11-14 14:59:55</th>\n",
       "      <td>2.822800</td>\n",
       "      <td>0.165485</td>\n",
       "      <td>-0.158089</td>\n",
       "      <td>-0.145114</td>\n",
       "      <td>0.128770</td>\n",
       "      <td>-1.077636</td>\n",
       "      <td>-1.309730</td>\n",
       "      <td>-1.251996</td>\n",
       "      <td>-1.224511</td>\n",
       "      <td>2.471813</td>\n",
       "    </tr>\n",
       "    <tr>\n",
       "      <th>2017-11-14 15:00:00</th>\n",
       "      <td>-0.178481</td>\n",
       "      <td>0.165485</td>\n",
       "      <td>2.333653</td>\n",
       "      <td>-0.145114</td>\n",
       "      <td>0.128770</td>\n",
       "      <td>-1.055310</td>\n",
       "      <td>-0.996823</td>\n",
       "      <td>-0.772663</td>\n",
       "      <td>-1.188991</td>\n",
       "      <td>-0.584530</td>\n",
       "    </tr>\n",
       "  </tbody>\n",
       "</table>\n",
       "<p>2882 rows × 10 columns</p>\n",
       "</div>"
      ],
      "text/plain": [
       "                          al0        c10        a10       OI0        SF0  \\\n",
       "2017-11-14 09:00:00 -0.178481   0.165485  -0.158089 -0.145114   0.128770   \n",
       "2017-11-14 09:00:05  1.311563   0.165485  -0.158089 -0.145114 -14.510381   \n",
       "2017-11-14 09:00:10 -0.178481  11.260935   4.784574 -0.145114   1.104713   \n",
       "2017-11-14 09:00:15 -0.178481   0.165485  -0.158089 -0.145114   0.128770   \n",
       "2017-11-14 09:00:20  2.801606   0.165485  -0.158089 -0.145114  -0.847174   \n",
       "2017-11-14 09:00:25 -0.178481   0.165485  -5.100753 -0.145114   0.128770   \n",
       "2017-11-14 09:00:30 -0.178481   0.165485  -0.158089 -0.145114   0.128770   \n",
       "2017-11-14 09:00:35 -0.178481   0.165485  -0.158089 -0.145114   0.128770   \n",
       "2017-11-14 09:00:40 -0.178481   0.165485  -0.158089 -0.145114  -1.826303   \n",
       "2017-11-14 09:00:45 -0.178481   0.165485  -2.628747 -2.232380   0.128770   \n",
       "2017-11-14 09:00:50 -0.178481   0.165485  -0.158089 -0.145114  -1.823985   \n",
       "2017-11-14 09:00:55 -0.178481   0.165485  -0.158089 -0.145114  -0.847463   \n",
       "2017-11-14 09:01:00 -0.178481   0.165485  -0.158089  4.030038   1.105002   \n",
       "2017-11-14 09:01:05 -0.178481   0.165485  -0.158089 -4.319026  -1.821384   \n",
       "2017-11-14 09:01:10 -0.178481   0.165485  -0.158089  1.942152   0.128770   \n",
       "2017-11-14 09:01:15 -0.178481   5.723090  -0.158089 -0.145114   4.027345   \n",
       "2017-11-14 09:01:20 -0.178481   0.165485  -0.158089 -0.145114  -0.845298   \n",
       "2017-11-14 09:01:25 -0.178481   0.165485  -0.158089 -0.145114   0.128770   \n",
       "2017-11-14 09:01:30 -0.178481   0.165485  -0.158089 -0.145114  -2.794297   \n",
       "2017-11-14 09:01:35 -0.178481   0.165485  -0.158089  4.028798   0.128770   \n",
       "2017-11-14 09:01:40 -0.178481   0.165485  -0.158089  1.941222   3.048813   \n",
       "2017-11-14 09:01:45 -0.178481   0.165485  -0.158089 -0.145114   1.101255   \n",
       "2017-11-14 09:01:50 -0.178481   0.165485  -0.158089 -0.145114   1.100108   \n",
       "2017-11-14 09:01:55 -0.178481   0.165485  -0.158089 -0.145114   0.128770   \n",
       "2017-11-14 09:02:00 -0.178481   0.165485  -0.158089 -0.145114  -3.758304   \n",
       "2017-11-14 09:02:05 -0.178481   0.165485  -0.158089 -0.145114   4.020435   \n",
       "2017-11-14 09:02:10 -0.178481   0.165485  -0.158089 -0.145114   1.101686   \n",
       "2017-11-14 09:02:15 -3.161441   0.165485  -0.158089 -4.319026  -0.843286   \n",
       "2017-11-14 09:02:20 -0.178481   0.165485  -0.158089  6.117613   2.073454   \n",
       "2017-11-14 09:02:25 -0.178481   0.165485  -0.158089 -0.145114   0.128770   \n",
       "...                       ...        ...        ...       ...        ...   \n",
       "2017-11-14 14:57:35 -0.178481   0.165485  -0.158089 -0.145114  -0.845442   \n",
       "2017-11-14 14:57:40 -0.178481   0.165485  -0.158089  4.025083   0.128770   \n",
       "2017-11-14 14:57:45 -0.178481   0.165485  -0.158089 -0.145114   0.128770   \n",
       "2017-11-14 14:57:50 -0.178481   0.165485  -0.158089 -0.145114   0.128770   \n",
       "2017-11-14 14:57:55 -0.178481   0.165485  -0.158089  1.939984   0.128770   \n",
       "2017-11-14 14:58:00 -0.178481   0.165485  -0.158089 -0.145114   0.128770   \n",
       "2017-11-14 14:58:05 -0.178481   0.165485  -0.158089 -0.145114   1.103269   \n",
       "2017-11-14 14:58:10 -0.178481   0.165485  -0.158089 -0.145114   0.128770   \n",
       "2017-11-14 14:58:15 -0.178481   0.165485  -0.158089 -0.145114   0.128770   \n",
       "2017-11-14 14:58:20 -0.178481   0.165485 -10.111357 -0.145114   0.128770   \n",
       "2017-11-14 14:58:25 -3.176854   0.165485  -0.158089 -0.145114   0.128770   \n",
       "2017-11-14 14:58:30 -0.178481   0.165485  -5.137461 -0.145114   0.128770   \n",
       "2017-11-14 14:58:35 -0.178481   0.165485  -0.158089  1.940603   1.102981   \n",
       "2017-11-14 14:58:40 -0.178481   0.165485  -0.158089 -0.145114   0.128770   \n",
       "2017-11-14 14:58:45 -0.178481   0.165485  -0.158089 -0.145114   0.128770   \n",
       "2017-11-14 14:58:50 -0.178481   0.165485  -0.158089 -0.145114   0.128770   \n",
       "2017-11-14 14:58:55 -0.178481   0.165485  -0.158089 -0.145114  -0.845154   \n",
       "2017-11-14 14:59:00 -0.178481   0.165485  -2.648803 -0.145114   0.128770   \n",
       "2017-11-14 14:59:05 -0.178481   0.165485  -0.158089 -0.145114   0.128770   \n",
       "2017-11-14 14:59:10 -0.178481   0.165485  -0.158089  1.940603   0.128770   \n",
       "2017-11-14 14:59:15 -0.178481   0.165485  -0.158089 -0.145114   0.128770   \n",
       "2017-11-14 14:59:20 -0.178481   0.165485  -0.158089 -0.145114   0.128770   \n",
       "2017-11-14 14:59:25 -1.678636   0.165485  -0.158089 -0.145114   0.128770   \n",
       "2017-11-14 14:59:30  1.321917   0.165485  -0.158089  1.940603   0.128770   \n",
       "2017-11-14 14:59:35 -0.178481   0.165485  -0.158089 -0.145114   0.128770   \n",
       "2017-11-14 14:59:40 -0.178481   0.165485  -0.158089 -0.145114   0.128770   \n",
       "2017-11-14 14:59:45 -0.178481   0.165485  -0.158089 -0.145114   0.128770   \n",
       "2017-11-14 14:59:50 -0.178481   0.165485  -0.158089 -0.145114   0.128770   \n",
       "2017-11-14 14:59:55  2.822800   0.165485  -0.158089 -0.145114   0.128770   \n",
       "2017-11-14 15:00:00 -0.178481   0.165485   2.333653 -0.145114   0.128770   \n",
       "\n",
       "                          al0       c10       a10       OI0       SF0  \n",
       "2017-11-14 09:00:00 -1.390188 -1.233385  2.674848 -1.011386 -0.555966  \n",
       "2017-11-14 09:00:05 -1.256237 -1.309730 -1.288868 -1.366595  0.358080  \n",
       "2017-11-14 09:00:10 -1.300888  0.726853 -0.680484  1.723727 -0.698786  \n",
       "2017-11-14 09:00:15 -1.412513 -1.135534 -0.698920  1.261955 -0.641658  \n",
       "2017-11-14 09:00:20 -1.122286 -0.934457 -0.901715  0.409452 -0.698786  \n",
       "2017-11-14 09:00:25 -1.122286 -0.984995 -1.104509 -0.549613 -0.527402  \n",
       "2017-11-14 09:00:30 -1.211587 -0.515097 -0.791099 -1.046907 -0.698786  \n",
       "2017-11-14 09:00:35 -1.189262 -0.958113 -0.403946 -0.833781 -0.555966  \n",
       "2017-11-14 09:00:40 -1.144611 -0.629077 -1.288868 -0.762739 -0.527402  \n",
       "2017-11-14 09:00:45 -1.144611 -0.452731 -0.403946 -1.331074  0.072441  \n",
       "2017-11-14 09:00:50 -0.988335 -0.555958 -0.016792 -1.188991 -0.698786  \n",
       "2017-11-14 09:00:55 -0.988335 -0.615098  0.775951 -0.904823 -0.698786  \n",
       "2017-11-14 09:01:00 -1.032985 -0.626926  0.315054  0.622578  1.100743  \n",
       "2017-11-14 09:01:05 -0.809733 -0.668862  3.062001 -0.620655 -0.584530  \n",
       "2017-11-14 09:01:10 -1.457164 -0.674239 -0.182715  0.338410  0.129569  \n",
       "2017-11-14 09:01:15 -0.564156 -0.902198 -0.569869 -0.514092 -0.470274  \n",
       "2017-11-14 09:01:20 -0.363230 -0.653808 -0.754227 -0.549613 -0.613094  \n",
       "2017-11-14 09:01:25 -0.229279 -0.253804 -0.957022 -1.153470  2.300429  \n",
       "2017-11-14 09:01:30 -0.854384 -0.580689 -0.662048 -1.260032 -0.384583  \n",
       "2017-11-14 09:01:35 -0.273929 -0.910800 -0.864843  1.794769  0.272388  \n",
       "2017-11-14 09:01:40 -0.363230 -1.130158 -0.993894  0.409452 -0.441710  \n",
       "2017-11-14 09:01:45 -1.323213 -0.594668 -1.012330 -0.656176 -0.641658  \n",
       "2017-11-14 09:01:50 -0.988335 -0.617249 -0.403946 -1.437637 -0.555966  \n",
       "2017-11-14 09:01:55 -1.412513 -0.684991  0.056952 -0.940344 -0.613094  \n",
       "2017-11-14 09:02:00 -0.631132 -0.686067 -0.569869 -0.975865 -0.498838  \n",
       "2017-11-14 09:02:05 -0.162303 -0.698970  0.573157 -0.265446 -0.555966  \n",
       "2017-11-14 09:02:10 -0.787408 -0.787143 -0.883279 -0.087841 -0.184635  \n",
       "2017-11-14 09:02:15 -0.028352 -0.881768  0.149131 -1.473158  2.243301  \n",
       "2017-11-14 09:02:20 -0.586482 -0.901123 -0.090535 -0.514092  1.329255  \n",
       "2017-11-14 09:02:25 -0.541831 -0.968866 -0.145843 -0.833781 -0.670222  \n",
       "...                       ...       ...       ...       ...       ...  \n",
       "2017-11-14 14:57:35  1.177208 -1.396827  1.070926  0.622578 -0.184635  \n",
       "2017-11-14 14:57:40  0.998607 -0.354880  0.978746  0.480494 -0.098943  \n",
       "2017-11-14 14:57:45  0.663729 -1.391451  1.070926  1.439560 -0.156071  \n",
       "2017-11-14 14:57:50  0.641404 -1.412957  1.310592 -1.366595 -0.298891  \n",
       "2017-11-14 14:57:55 -0.229279 -1.315106  1.126233  1.439560 -0.270327  \n",
       "2017-11-14 14:58:00 -0.631132 -1.231234  0.536285 -1.153470 -0.270327  \n",
       "2017-11-14 14:58:05 -1.122286 -1.316181  0.978746 -1.011386 -0.327455  \n",
       "2017-11-14 14:58:10 -0.631132 -1.231234 -1.196689 -0.549613 -0.241763  \n",
       "2017-11-14 14:58:15 -0.139978 -1.325859 -0.403946 -0.727218 -0.413147  \n",
       "2017-11-14 14:58:20 -0.631132 -1.273170  0.222875 -0.052320 -0.413147  \n",
       "2017-11-14 14:58:25 -1.501814 -1.225858  0.001644 -1.011386 -0.441710  \n",
       "2017-11-14 14:58:30 -0.229279 -0.967790  4.647488 -0.691697 -0.384583  \n",
       "2017-11-14 14:58:35 -0.497181 -0.858112  4.868718 -0.478571 -0.184635  \n",
       "2017-11-14 14:58:40 -0.921359 -0.828004 -0.772663 -0.336488 -0.213199  \n",
       "2017-11-14 14:58:45 -0.765083 -0.764562 -1.288868 -0.336488 -0.298891  \n",
       "2017-11-14 14:58:50  0.194900 -0.662410  4.610616 -0.620655 -0.527402  \n",
       "2017-11-14 14:58:55  0.194900 -0.668862  4.241898 -0.514092  0.101005  \n",
       "2017-11-14 14:59:00  0.552103 -0.623700 -1.344176 -0.229925 -0.584530  \n",
       "2017-11-14 14:59:05 -0.184628 -0.479613 -1.030766 -0.798260 -0.241763  \n",
       "2017-11-14 14:59:10  0.083274 -0.359181  1.439643 -0.727218 -0.241763  \n",
       "2017-11-14 14:59:15  0.038624 -0.321546  1.365900 -0.656176 -0.327455  \n",
       "2017-11-14 14:59:20  0.641404 -0.225846 -0.330202 -0.585134 -0.613094  \n",
       "2017-11-14 14:59:25  0.373501 -0.130146 -0.901715 -1.011386  4.585545  \n",
       "2017-11-14 14:59:30  0.641404 -0.001113  1.439643 -0.549613 -0.670222  \n",
       "2017-11-14 14:59:35 -0.251604 -0.027995 -0.772663 -0.549613  5.356772  \n",
       "2017-11-14 14:59:40 -0.497181 -0.057027 -0.551433 -1.224511 -0.498838  \n",
       "2017-11-14 14:59:45 -0.474856 -0.757035 -0.440817 -1.437637  5.299644  \n",
       "2017-11-14 14:59:50 -1.166936 -0.111867 -0.514561 -0.833781  7.441940  \n",
       "2017-11-14 14:59:55 -1.077636 -1.309730 -1.251996 -1.224511  2.471813  \n",
       "2017-11-14 15:00:00 -1.055310 -0.996823 -0.772663 -1.188991 -0.584530  \n",
       "\n",
       "[2882 rows x 10 columns]"
      ]
     },
     "execution_count": 188,
     "metadata": {},
     "output_type": "execute_result"
    }
   ],
   "source": [
    "test_x"
   ]
  },
  {
   "cell_type": "code",
   "execution_count": 119,
   "metadata": {},
   "outputs": [
    {
     "data": {
      "text/plain": [
       "0.024689437940219272"
      ]
     },
     "execution_count": 119,
     "metadata": {},
     "output_type": "execute_result"
    }
   ],
   "source": [
    "from sklearn.linear_model import LinearRegression\n",
    "clf = LinearRegression()\n",
    "clf.fit(train_x, train_y)\n",
    "clf.score(train_x, train_y)"
   ]
  },
  {
   "cell_type": "code",
   "execution_count": 194,
   "metadata": {},
   "outputs": [
    {
     "name": "stdout",
     "output_type": "stream",
     "text": [
      "accuarcy of positive or negative: 0.267869535045\n"
     ]
    }
   ],
   "source": [
    "test_pred = clf.predict(test_x)\n",
    "print 'accuarcy of positive or negative:', rs.accu(rs.calssConvert(test_pred), rs.calssConvert(sampled_test[target]))"
   ]
  },
  {
   "cell_type": "code",
   "execution_count": 195,
   "metadata": {},
   "outputs": [
    {
     "data": {
      "image/png": "[encoded data removed]",
      "text/plain": [
       "<matplotlib.figure.Figure at 0x7f5ed0e61250>"
      ]
     },
     "metadata": {},
     "output_type": "display_data"
    }
   ],
   "source": [
    "rs.contrast(test_pred, only_sampled[target].values,start=0,end=40)"
   ]
  },
  {
   "cell_type": "code",
   "execution_count": 380,
   "metadata": {},
   "outputs": [
    {
     "data": {
      "text/plain": [
       "0.41478140180430256"
      ]
     },
     "execution_count": 380,
     "metadata": {},
     "output_type": "execute_result"
    }
   ],
   "source": [
    "ni.accu(ni.calssConvert(train_pred), ni.calssConvert(train['ru0']))"
   ]
  },
  {
   "cell_type": "code",
   "execution_count": 376,
   "metadata": {
    "collapsed": true
   },
   "outputs": [
    {
     "data": {
      "image/png": "[encoded data removed]",
      "text/plain": [
       "<matplotlib.figure.Figure at 0x7fbda0786ad0>"
      ]
     },
     "metadata": {},
     "output_type": "display_data"
    },
    {
     "name": "stdout",
     "output_type": "stream",
     "text": [
      "mean value of pred is -0.0000 and true mean is -0.0000\n",
      "std value of pred is 0.0000 and true std is 0.0002\n"
     ]
    }
   ],
   "source": [
    "clf.score(train[train_symbol], train['ru0'])\n",
    "train_pred = clf.predict(train[train_symbol])\n",
    "fig = plt.figure()\n",
    "ax1 = fig.add_subplot(2,1,1)\n",
    "ax2 = fig.add_subplot(2,1,2)\n",
    "ax1.plot(range(len(train_pred)),train_pred,label = 'pred')\n",
    "ax1.legend()\n",
    "ax2.plot(range(len(train['ru0'])),train['ru0'],label = 'train')\n",
    "\n",
    "plt.legend()\n",
    "plt.show()\n",
    "print 'mean value of pred is %.4f and true mean is %.4f' %(np.mean(day1127_pred), np.mean(day1127['ru0']))\n",
    "print 'std value of pred is %.4f and true std is %.4f' %(np.std(day1127_pred), np.std(day1127['ru0']))"
   ]
  },
  {
   "cell_type": "code",
   "execution_count": 98,
   "metadata": {
    "collapsed": true
   },
   "outputs": [
    {
     "data": {
      "text/plain": [
       "ru0    1.000000\n",
       "FG0    0.098898\n",
       "v10    0.080545\n",
       "c10    0.046743\n",
       "p10    0.046490\n",
       "l10    0.044957\n",
       "SM0    0.026673\n",
       "m10    0.023132\n",
       "rb0    0.019411\n",
       "bu0    0.018951\n",
       "ni0    0.018034\n",
       "jd0    0.011753\n",
       "jm0    0.010505\n",
       "T10    0.010290\n",
       "RM0    0.009523\n",
       "j10    0.009492\n",
       "IC0    0.009113\n",
       "y10    0.007373\n",
       "OI0    0.007336\n",
       "TF0    0.007056\n",
       "CF0    0.006346\n",
       "cs0    0.005763\n",
       "al0    0.003171\n",
       "IH0    0.002672\n",
       "TA0    0.002403\n",
       "hc0    0.000644\n",
       "ZC0   -0.001413\n",
       "zn0   -0.004633\n",
       "sn0   -0.005470\n",
       "pb0   -0.005736\n",
       "MA0   -0.007681\n",
       "pp0   -0.014815\n",
       "ag0   -0.015684\n",
       "au0   -0.017480\n",
       "cu0   -0.019895\n",
       "IF0   -0.021058\n",
       "i10   -0.029576\n",
       "a10   -0.045031\n",
       "SF0         NaN\n",
       "Name: ru0, dtype: float64"
      ]
     },
     "execution_count": 98,
     "metadata": {},
     "output_type": "execute_result"
    }
   ],
   "source": [
    "test.corr()['ru0'].sort_values(ascending = False)"
   ]
  },
  {
   "cell_type": "code",
   "execution_count": 214,
   "metadata": {
    "collapsed": true
   },
   "outputs": [],
   "source": [
    "day1127 = train.iloc[:2800]"
   ]
  },
  {
   "cell_type": "code",
   "execution_count": 343,
   "metadata": {
    "collapsed": true
   },
   "outputs": [],
   "source": [
    "usecol = day1127.corr()['ru0'][(day1127.corr()['ru0']<1) & (day1127.corr()['ru0']>0.02)].sort_values(ascending = False).index.values[:4]\n"
   ]
  },
  {
   "cell_type": "code",
   "execution_count": 266,
   "metadata": {
    "collapsed": true
   },
   "outputs": [],
   "source": [
    "def standardize(data):\n",
    "    scaler = StandardScaler()\n",
    "    scaler.fit(data)\n",
    "    return scaler.transform(data)\n",
    "train_x = standardize(day1127[usecol])\n",
    "train_y = (day1127['ru0'] - np.mean(day1127['ru0']))"
   ]
  },
  {
   "cell_type": "code",
   "execution_count": 355,
   "metadata": {
    "collapsed": true
   },
   "outputs": [],
   "source": [
    "clf = RidgeCV(alphas=np.arange(0.025,5,0.025),normalize=True,cv=10)\n",
    "clf.fit(day1127[usecol], day1127['ru0'])\n",
    "day1127_pred = clf.predict(day1127[usecol])\n",
    "# normalized_y = (day1127['ru0']"
   ]
  },
  {
   "cell_type": "code",
   "execution_count": 353,
   "metadata": {},
   "outputs": [
    {
     "name": "stdout",
     "output_type": "stream",
     "text": [
      "0.025\n"
     ]
    }
   ],
   "source": []
  },
  {
   "cell_type": "code",
   "execution_count": 356,
   "metadata": {},
   "outputs": [
    {
     "data": {
      "image/png": "[encoded data removed]",
      "text/plain": [
       "<matplotlib.figure.Figure at 0x7fbda0dd5890>"
      ]
     },
     "metadata": {},
     "output_type": "display_data"
    },
    {
     "name": "stdout",
     "output_type": "stream",
     "text": [
      "mean value of pred is -0.0000 and true mean is -0.0000\n",
      "std value of pred is 0.0000 and true std is 0.0002\n"
     ]
    }
   ],
   "source": [
    "fig = plt.figure()\n",
    "ax1 = fig.add_subplot(2,1,1)\n",
    "ax2 = fig.add_subplot(2,1,2)\n",
    "ax1.plot(range(len(day1127_pred)),day1127_pred,label = 'pred')\n",
    "ax1.legend()\n",
    "ax2.plot(range(len(day1127['ru0'])),day1127['ru0'],label = 'train')\n",
    "\n",
    "plt.legend()\n",
    "plt.show()\n",
    "print 'mean value of pred is %.4f and true mean is %.4f' %(np.mean(day1127_pred), np.mean(day1127['ru0']))\n",
    "print 'std value of pred is %.4f and true std is %.4f' %(np.std(day1127_pred), np.std(day1127['ru0']))"
   ]
  },
  {
   "cell_type": "code",
   "execution_count": 357,
   "metadata": {},
   "outputs": [
    {
     "name": "stdout",
     "output_type": "stream",
     "text": [
      "0.915714285714\n"
     ]
    }
   ],
   "source": [
    "train_class = ni.calssConvert(day1127['ru0'])\n",
    "pred_class = ni.calssConvert(day1127_pred)\n",
    "print ni.accu(train_class, pred_class)"
   ]
  },
  {
   "cell_type": "code",
   "execution_count": 311,
   "metadata": {
    "collapsed": true
   },
   "outputs": [],
   "source": [
    "accuarcy = {}\n",
    "for alpha in np.arange(0.25,10,0.25):\n",
    "    clf = Ridge(alpha=alpha,normalize=True)\n",
    "    clf.fit(day1127[usecol], day1127['ru0'])\n",
    "    day1127_pred = clf.predict(day1127[usecol])\n",
    "    train_class = ni.calssConvert(day1127['ru0'])\n",
    "    pred_class = ni.calssConvert(day1127_pred)\n",
    "    test_pred = clf.predict(test[usecol])\n",
    "    test_class = ni.calssConvert(test['ru0'])\n",
    "    test_pred_class = ni.calssConvert(test_pred)\n",
    "    accuarcy[alpha] = ni.accu(test_class, test_pred_class)"
   ]
  },
  {
   "cell_type": "code",
   "execution_count": 312,
   "metadata": {},
   "outputs": [
    {
     "data": {
      "image/png": "[encoded data removed]",
      "text/plain": [
       "<matplotlib.figure.Figure at 0x7fbda0bec950>"
      ]
     },
     "metadata": {},
     "output_type": "display_data"
    }
   ],
   "source": [
    "pd.Series(accuarcy).plot()\n",
    "plt.show()"
   ]
  },
  {
   "cell_type": "code",
   "execution_count": 224,
   "metadata": {},
   "outputs": [
    {
     "data": {
      "image/png": "[encoded data removed]",
      "text/plain": [
       "<matplotlib.figure.Figure at 0x7fbda22aff50>"
      ]
     },
     "metadata": {},
     "output_type": "display_data"
    },
    {
     "name": "stdout",
     "output_type": "stream",
     "text": [
      "mean value of pred is -0.0000 and true mean is -0.0000\n",
      "std value of pred is 0.0000 and true std is 0.0002\n"
     ]
    }
   ],
   "source": [
    "fig = plt.figure()\n",
    "ax1 = fig.add_subplot(2,1,1)\n",
    "ax2 = fig.add_subplot(2,1,2)\n",
    "ax1.plot(range(len(test_pred)),test_pred,label = 'pred')\n",
    "ax1.legend()\n",
    "ax2.plot(range(len(test['ru0'])),test['ru0'],label = 'train')\n",
    "plt.legend()\n",
    "plt.show()\n",
    "print 'mean value of pred is %.4f and true mean is %.4f' %(np.mean(day1127_pred), np.mean(day1127['ru0']))\n",
    "print 'std value of pred is %.4f and true std is %.4f' %(np.std(day1127_pred), np.std(day1127['ru0']))"
   ]
  },
  {
   "cell_type": "code",
   "execution_count": 315,
   "metadata": {
    "collapsed": true
   },
   "outputs": [],
   "source": [
    "origin = corr.concatdata(['20171127'])"
   ]
  },
  {
   "cell_type": "code",
   "execution_count": 318,
   "metadata": {
    "collapsed": true
   },
   "outputs": [],
   "source": [
    "origin = corr.sampledata(origin,'5s')"
   ]
  },
  {
   "cell_type": "code",
   "execution_count": 350,
   "metadata": {},
   "outputs": [
    {
     "data": {
      "text/plain": [
       "0.0"
      ]
     },
     "execution_count": 350,
     "metadata": {},
     "output_type": "execute_result"
    }
   ],
   "source": []
  },
  {
   "cell_type": "code",
   "execution_count": 366,
   "metadata": {},
   "outputs": [
    {
     "data": {
      "image/png": "[encoded data removed]",
      "text/plain": [
       "<matplotlib.figure.Figure at 0x7fbd99241090>"
      ]
     },
     "metadata": {},
     "output_type": "display_data"
    }
   ],
   "source": [
    "start, end = 0,100\n",
    "ni.contrast(day1127_pred, origin['ru0']-0.03,start,end,coef=2000)"
   ]
  },
  {
   "cell_type": "code",
   "execution_count": 447,
   "metadata": {},
   "outputs": [
    {
     "data": {
      "image/png": "[encoded data removed]",
      "text/plain": [
       "<matplotlib.figure.Figure at 0x7fbda1b7f350>"
      ]
     },
     "metadata": {},
     "output_type": "display_data"
    }
   ],
   "source": [
    "plt.plot( day1127_pred[:20]*100,'-o',label = 'pred')\n",
    "plt.legend()\n",
    "plt.show()"
   ]
  },
  {
   "cell_type": "code",
   "execution_count": null,
   "metadata": {
    "collapsed": true
   },
   "outputs": [],
   "source": []
  }
 ],
 "metadata": {
  "kernelspec": {
   "display_name": "Python 2",
   "language": "python",
   "name": "python2"
  },
  "language_info": {
   "codemirror_mode": {
    "name": "ipython",
    "version": 2
   },
   "file_extension": ".py",
   "mimetype": "text/x-python",
   "name": "python",
   "nbconvert_exporter": "python",
   "pygments_lexer": "ipython2",
   "version": "2.7.14"
  }
 },
 "nbformat": 4,
 "nbformat_minor": 2
}
