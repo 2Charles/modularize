{
 "cells": [
  {
   "cell_type": "code",
   "execution_count": 1,
   "metadata": {},
   "outputs": [],
   "source": [
    "import corrlab\n",
    "reload(corrlab)\n",
    "import linear_regression_for_NI as ni\n",
    "reload(ni)\n",
    "import pandas as pd\n",
    "import numpy as np\n",
    "\n",
    "filedir = '/hdd/ctp/day/'\n",
    "train_start, train_end = '20171113', '20171113'\n",
    "test_start, test_end = '20171114', '20171114'\n",
    "period, lag, target = '5s', '5s', 'ru0'\n",
    "type = 0\n",
    "\n"
   ]
  },
  {
   "cell_type": "code",
   "execution_count": 2,
   "metadata": {
    "scrolled": true
   },
   "outputs": [
    {
     "name": "stderr",
     "output_type": "stream",
     "text": [
      "/home/hui/anaconda2/lib/python2.7/site-packages/pandas/core/indexing.py:337: SettingWithCopyWarning: \n",
      "A value is trying to be set on a copy of a slice from a DataFrame.\n",
      "Try using .loc[row_indexer,col_indexer] = value instead\n",
      "\n",
      "See the caveats in the documentation: http://pandas.pydata.org/pandas-docs/stable/indexing.html#indexing-view-versus-copy\n",
      "  self.obj[key] = _infer_fill_value(value)\n",
      "/home/hui/anaconda2/lib/python2.7/site-packages/pandas/core/indexing.py:517: SettingWithCopyWarning: \n",
      "A value is trying to be set on a copy of a slice from a DataFrame.\n",
      "Try using .loc[row_indexer,col_indexer] = value instead\n",
      "\n",
      "See the caveats in the documentation: http://pandas.pydata.org/pandas-docs/stable/indexing.html#indexing-view-versus-copy\n",
      "  self.obj[item] = s\n"
     ]
    },
    {
     "name": "stdout",
     "output_type": "stream",
     "text": [
      "1.not eaqul number is :\n",
      "zn0    0\n",
      "ag0    0\n",
      "al0    0\n",
      "y10    0\n",
      "au0    0\n",
      "FG0    0\n",
      "cs0    0\n",
      "c10    0\n",
      "cu0    0\n",
      "ni0    0\n",
      "pp0    0\n",
      "pb0    0\n",
      "rb0    0\n",
      "TF0    0\n",
      "RM0    0\n",
      "TA0    0\n",
      "ru0    0\n",
      "i10    0\n",
      "CF0    0\n",
      "ZC0    0\n",
      "a10    0\n",
      "IH0    0\n",
      "jd0    0\n",
      "hc0    0\n",
      "IC0    0\n",
      "T10    0\n",
      "IF0    0\n",
      "p10    0\n",
      "MA0    0\n",
      "OI0    0\n",
      "bu0    0\n",
      "jm0    0\n",
      "j10    0\n",
      "v10    0\n",
      "sn0    0\n",
      "SM0    0\n",
      "l10    0\n",
      "m10    0\n",
      "SF0    0\n",
      "dtype: int64\n",
      "3.not eaqul number is :\n",
      "zn0    0\n",
      "ag0    0\n",
      "al0    0\n",
      "y10    0\n",
      "au0    0\n",
      "FG0    0\n",
      "cs0    0\n",
      "c10    0\n",
      "cu0    0\n",
      "ni0    0\n",
      "pp0    0\n",
      "pb0    0\n",
      "rb0    0\n",
      "TF0    0\n",
      "RM0    0\n",
      "TA0    0\n",
      "ru0    0\n",
      "i10    0\n",
      "CF0    0\n",
      "ZC0    0\n",
      "a10    0\n",
      "IH0    0\n",
      "jd0    0\n",
      "hc0    0\n",
      "IC0    0\n",
      "T10    0\n",
      "IF0    0\n",
      "p10    0\n",
      "MA0    0\n",
      "OI0    0\n",
      "bu0    0\n",
      "jm0    0\n",
      "j10    0\n",
      "v10    0\n",
      "sn0    0\n",
      "SM0    0\n",
      "l10    0\n",
      "m10    0\n",
      "SF0    0\n",
      "dtype: int64\n"
     ]
    }
   ],
   "source": [
    "rs = ni.simu(train_start,train_end, test_start, test_end, period, lag,target, type)\n",
    "data1,_ = rs.get_train_test()\n",
    "ori_data1 = data1.copy()\n",
    "sampled_data1,_ = rs.sample(data1, _)\n",
    "\n",
    "print '1.not eaqul number is :\\n', (ori_data1 != data1).sum()\n",
    "# print '2.not eaqul number is :\\n', (ori_data1 != shifted_data1).sum()\n",
    "shifted_data1,_ = rs.shift(sampled_data1, _)\n",
    "print '3.not eaqul number is :\\n', (ori_data1 != data1).sum()\n",
    "# print '4.not eaqul number is :\\n', (ori_data1 != sampled_data1).sum()"
   ]
  },
  {
   "cell_type": "code",
   "execution_count": 13,
   "metadata": {
    "collapsed": true
   },
   "outputs": [
    {
     "data": {
      "text/plain": [
       "2017-11-13 09:00:00    0.000000\n",
       "2017-11-13 09:00:05   -0.000361\n",
       "2017-11-13 09:00:10    0.000000\n",
       "2017-11-13 09:00:15    0.000724\n",
       "2017-11-13 09:00:20    0.000723\n",
       "Freq: 5S, Name: ru0, dtype: float64"
      ]
     },
     "execution_count": 13,
     "metadata": {},
     "output_type": "execute_result"
    }
   ],
   "source": [
    "sampled_data1[target].head()"
   ]
  },
  {
   "cell_type": "code",
   "execution_count": 7,
   "metadata": {},
   "outputs": [
    {
     "data": {
      "image/png": "[encoded data removed]",
      "text/plain": [
       "<matplotlib.figure.Figure at 0x7fadc6813dd0>"
      ]
     },
     "metadata": {},
     "output_type": "display_data"
    }
   ],
   "source": [
    "%matplotlib inline\n",
    "import matplotlib.pylab as plt\n",
    "plt.plot(sampled_data1[target][:2000], label = 'sampled')\n",
    "plt.plot(shifted_data1[target][:2000],label = 'shifted')\n",
    "plt.legend()\n",
    "plt.show()"
   ]
  },
  {
   "cell_type": "code",
   "execution_count": 8,
   "metadata": {
    "collapsed": true
   },
   "outputs": [
    {
     "name": "stdout",
     "output_type": "stream",
     "text": [
      "1.not eaqul number is :\n",
      "zn0    0\n",
      "ag0    0\n",
      "al0    0\n",
      "y10    0\n",
      "au0    0\n",
      "FG0    0\n",
      "cs0    0\n",
      "c10    0\n",
      "cu0    0\n",
      "ni0    0\n",
      "pp0    0\n",
      "pb0    0\n",
      "rb0    0\n",
      "TF0    0\n",
      "RM0    0\n",
      "TA0    0\n",
      "ru0    0\n",
      "i10    0\n",
      "CF0    0\n",
      "ZC0    0\n",
      "a10    0\n",
      "IH0    0\n",
      "jd0    0\n",
      "hc0    0\n",
      "IC0    0\n",
      "T10    0\n",
      "IF0    0\n",
      "p10    0\n",
      "MA0    0\n",
      "OI0    0\n",
      "bu0    0\n",
      "jm0    0\n",
      "j10    0\n",
      "v10    0\n",
      "sn0    0\n",
      "SM0    0\n",
      "l10    0\n",
      "m10    0\n",
      "SF0    0\n",
      "dtype: int64\n",
      "3.not eaqul number is :\n",
      "zn0    0\n",
      "ag0    0\n",
      "al0    0\n",
      "y10    0\n",
      "au0    0\n",
      "FG0    0\n",
      "cs0    0\n",
      "c10    0\n",
      "cu0    0\n",
      "ni0    0\n",
      "pp0    0\n",
      "pb0    0\n",
      "rb0    0\n",
      "TF0    0\n",
      "RM0    0\n",
      "TA0    0\n",
      "ru0    0\n",
      "i10    0\n",
      "CF0    0\n",
      "ZC0    0\n",
      "a10    0\n",
      "IH0    0\n",
      "jd0    0\n",
      "hc0    0\n",
      "IC0    0\n",
      "T10    0\n",
      "IF0    0\n",
      "p10    0\n",
      "MA0    0\n",
      "OI0    0\n",
      "bu0    0\n",
      "jm0    0\n",
      "j10    0\n",
      "v10    0\n",
      "sn0    0\n",
      "SM0    0\n",
      "l10    0\n",
      "m10    0\n",
      "SF0    0\n",
      "dtype: int64\n"
     ]
    }
   ],
   "source": [
    "\n",
    "# way two: by corrlab\n",
    "corr = corrlab.corrAna(filedir, train_start, train_end, type)\n",
    "data2 = corr.concatdata([train_start])\n",
    "ori_data2 = data2.copy()\n",
    "sampled_data2 = corr.sampledata(data2, period)\n",
    "\n",
    "print '1.not eaqul number is :\\n', (ori_data2 != data2).sum()\n",
    "# print '2.not eaqul number is :\\n', (ori_data2 != shifted_data2).sum()\n",
    "\n",
    "# print '4.not eaqul number is :\\n', (ori_data2 != sampled_data2).sum()\n",
    "shifted_data2 = corr.shift_align(sampled_data2, target, lag, corr.get_align_base(data2))\n",
    "print '3.not eaqul number is :\\n', (ori_data2 != data2).sum()"
   ]
  },
  {
   "cell_type": "code",
   "execution_count": 20,
   "metadata": {},
   "outputs": [
    {
     "data": {
      "text/plain": [
       "2017-11-13 09:00:00   NaN\n",
       "2017-11-13 11:30:00   NaN\n",
       "2017-11-13 15:00:00   NaN\n",
       "Name: ru0, dtype: float64"
      ]
     },
     "execution_count": 20,
     "metadata": {},
     "output_type": "execute_result"
    }
   ],
   "source": [
    "shifted_data2[target][shifted_data2[target]  != shifted_data1[target]]"
   ]
  },
  {
   "cell_type": "code",
   "execution_count": 10,
   "metadata": {
    "scrolled": true
   },
   "outputs": [
    {
     "data": {
      "image/png": "[encoded data removed]",
      "text/plain": [
       "<matplotlib.figure.Figure at 0x7fadc4c9d890>"
      ]
     },
     "metadata": {},
     "output_type": "display_data"
    }
   ],
   "source": [
    "sampled_data1[target][:500].plot()\n",
    "sampled_data2[target][:500].plot()\n",
    "plt.show()"
   ]
  },
  {
   "cell_type": "code",
   "execution_count": null,
   "metadata": {},
   "outputs": [],
   "source": [
    "%matplotlib inline\n",
    "ori_data1[target].plot()\n",
    "ori_data2[target].plot()\n",
    "# plt.show()"
   ]
  },
  {
   "cell_type": "code",
   "execution_count": 18,
   "metadata": {},
   "outputs": [
    {
     "data": {
      "text/plain": [
       "zn0   -0.000117\n",
       "ag0   -0.018065\n",
       "al0   -0.039173\n",
       "y10   -0.008685\n",
       "au0   -0.022451\n",
       "Name: ru0, dtype: float64"
      ]
     },
     "execution_count": 18,
     "metadata": {},
     "output_type": "execute_result"
    }
   ],
   "source": [
    "shifted_data1.corr()[target].head()"
   ]
  },
  {
   "cell_type": "code",
   "execution_count": 19,
   "metadata": {},
   "outputs": [
    {
     "data": {
      "text/plain": [
       "zn0   -0.000113\n",
       "ag0   -0.018102\n",
       "al0   -0.039191\n",
       "y10   -0.008687\n",
       "au0   -0.022453\n",
       "Name: ru0, dtype: float64"
      ]
     },
     "execution_count": 19,
     "metadata": {},
     "output_type": "execute_result"
    }
   ],
   "source": [
    " shifted_data2.corr()[target].head()"
   ]
  },
  {
   "cell_type": "code",
   "execution_count": null,
   "metadata": {},
   "outputs": [],
   "source": [
    "sampled_data1[target].head()"
   ]
  },
  {
   "cell_type": "code",
   "execution_count": null,
   "metadata": {},
   "outputs": [],
   "source": [
    "shifted_data1,_ = rs.shift(sampled_data1, ori_data1)"
   ]
  },
  {
   "cell_type": "code",
   "execution_count": null,
   "metadata": {},
   "outputs": [],
   "source": [
    "shifted_data1[target]"
   ]
  },
  {
   "cell_type": "code",
   "execution_count": null,
   "metadata": {},
   "outputs": [],
   "source": [
    "shifted_data2.corr()[target].head()"
   ]
  },
  {
   "cell_type": "code",
   "execution_count": null,
   "metadata": {},
   "outputs": [],
   "source": [
    "ori_data1.resample('5s').first()[target].head()"
   ]
  },
  {
   "cell_type": "code",
   "execution_count": null,
   "metadata": {
    "collapsed": true
   },
   "outputs": [],
   "source": [
    "tr = pd.DataFrame()\n",
    "tr = pd.DataFrame(range(1,100))"
   ]
  },
  {
   "cell_type": "code",
   "execution_count": null,
   "metadata": {
    "collapsed": true
   },
   "outputs": [],
   "source": [
    "tr.index = ori_data1.index.values[1:100]"
   ]
  },
  {
   "cell_type": "code",
   "execution_count": null,
   "metadata": {
    "collapsed": true
   },
   "outputs": [],
   "source": [
    "tr[0].shift(-1,'s')"
   ]
  },
  {
   "cell_type": "code",
   "execution_count": null,
   "metadata": {},
   "outputs": [],
   "source": [
    "ori_data1.index.values[1:100]"
   ]
  },
  {
   "cell_type": "code",
   "execution_count": null,
   "metadata": {
    "collapsed": true
   },
   "outputs": [],
   "source": []
  }
 ],
 "metadata": {
  "kernelspec": {
   "display_name": "Python 2",
   "language": "python",
   "name": "python2"
  },
  "language_info": {
   "codemirror_mode": {
    "name": "ipython",
    "version": 2
   },
   "file_extension": ".py",
   "mimetype": "text/x-python",
   "name": "python",
   "nbconvert_exporter": "python",
   "pygments_lexer": "ipython2",
   "version": "2.7.14"
  }
 },
 "nbformat": 4,
 "nbformat_minor": 2
}
