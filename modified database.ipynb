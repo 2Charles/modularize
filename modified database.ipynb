{
 "cells": [
  {
   "cell_type": "code",
   "execution_count": 143,
   "metadata": {},
   "outputs": [
    {
     "data": {
      "text/plain": [
       "<module 'corrlab' from 'corrlab.py'>"
      ]
     },
     "execution_count": 143,
     "metadata": {},
     "output_type": "execute_result"
    }
   ],
   "source": [
    "reload(corrlab)\n"
   ]
  },
  {
   "cell_type": "code",
   "execution_count": 38,
   "metadata": {},
   "outputs": [
    {
     "data": {
      "text/plain": [
       "0L"
      ]
     },
     "execution_count": 38,
     "metadata": {},
     "output_type": "execute_result"
    }
   ],
   "source": [
    "cursor.execute(\"DROP TABLE IF EXISTS tb_corr\")"
   ]
  },
  {
   "cell_type": "code",
   "execution_count": 42,
   "metadata": {
    "collapsed": true
   },
   "outputs": [
    {
     "name": "stderr",
     "output_type": "stream",
     "text": [
      "/home/hui/anaconda2/lib/python2.7/site-packages/ipykernel_launcher.py:26: Warning: Can't create database 'db_corr'; database exists\n",
      "/home/hui/anaconda2/lib/python2.7/site-packages/ipykernel_launcher.py:40: Warning: Table 'tb_corr' already exists\n",
      "ERROR:root:An unexpected error occurred while tokenizing input\n",
      "The following traceback may be corrupted or invalid\n",
      "The error message is: ('EOF in multi-line string', (1, 28))\n",
      "\n"
     ]
    },
    {
     "name": "stdout",
     "output_type": "stream",
     "text": [
      "lag is : 1s, period is 1s\n"
     ]
    },
    {
     "ename": "IntegrityError",
     "evalue": "(1062, \"Duplicate entry '2017-11-13-2017-11-13-ru0-ru0-1-1' for key 'PRIMARY'\")",
     "output_type": "error",
     "traceback": [
      "\u001b[0;31m---------------------------------------------------------------------------\u001b[0m",
      "\u001b[0;31mIntegrityError\u001b[0m                            Traceback (most recent call last)",
      "\u001b[0;32m<ipython-input-42-b6417bf1f377>\u001b[0m in \u001b[0;36m<module>\u001b[0;34m()\u001b[0m\n\u001b[1;32m     93\u001b[0m                             \u001b[0;34m'%s'\u001b[0m\u001b[0;34m,\u001b[0m \u001b[0;34m'%s'\u001b[0m\u001b[0;34m,\u001b[0m\u001b[0;34m'%s'\u001b[0m\u001b[0;34m,\u001b[0m\u001b[0;34m'%s'\u001b[0m\u001b[0;34m,\u001b[0m\u001b[0;34m'%s'\u001b[0m\u001b[0;34m,\u001b[0m\u001b[0;34m'%s'\u001b[0m\u001b[0;34m,\u001b[0m\u001b[0;34m'%d'\u001b[0m\u001b[0;34m,\u001b[0m\u001b[0;34m'%d'\u001b[0m\u001b[0;34m,\u001b[0m\u001b[0;34m'%d'\u001b[0m\u001b[0;34m,\u001b[0m\u001b[0;34m'%.6f'\u001b[0m\u001b[0;34m\u001b[0m\u001b[0m\n\u001b[1;32m     94\u001b[0m                             )\n\u001b[0;32m---> 95\u001b[0;31m                             \"\"\" % (day, day, ticker1, symbol1, ticker2, symbol2, type,int(period[:-1]), int(lag[:-1]), corr_value))\n\u001b[0m\u001b[1;32m     96\u001b[0m                 \u001b[0mconn\u001b[0m\u001b[0;34m.\u001b[0m\u001b[0mcommit\u001b[0m\u001b[0;34m(\u001b[0m\u001b[0;34m)\u001b[0m\u001b[0;34m\u001b[0m\u001b[0m\n",
      "\u001b[0;32m/home/hui/anaconda2/lib/python2.7/site-packages/MySQLdb/cursors.pyc\u001b[0m in \u001b[0;36mexecute\u001b[0;34m(self, query, args)\u001b[0m\n\u001b[1;32m    203\u001b[0m             \u001b[0;32mdel\u001b[0m \u001b[0mtb\u001b[0m\u001b[0;34m\u001b[0m\u001b[0m\n\u001b[1;32m    204\u001b[0m             \u001b[0mself\u001b[0m\u001b[0;34m.\u001b[0m\u001b[0mmessages\u001b[0m\u001b[0;34m.\u001b[0m\u001b[0mappend\u001b[0m\u001b[0;34m(\u001b[0m\u001b[0;34m(\u001b[0m\u001b[0mexc\u001b[0m\u001b[0;34m,\u001b[0m \u001b[0mvalue\u001b[0m\u001b[0;34m)\u001b[0m\u001b[0;34m)\u001b[0m\u001b[0;34m\u001b[0m\u001b[0m\n\u001b[0;32m--> 205\u001b[0;31m             \u001b[0mself\u001b[0m\u001b[0;34m.\u001b[0m\u001b[0merrorhandler\u001b[0m\u001b[0;34m(\u001b[0m\u001b[0mself\u001b[0m\u001b[0;34m,\u001b[0m \u001b[0mexc\u001b[0m\u001b[0;34m,\u001b[0m \u001b[0mvalue\u001b[0m\u001b[0;34m)\u001b[0m\u001b[0;34m\u001b[0m\u001b[0m\n\u001b[0m\u001b[1;32m    206\u001b[0m         \u001b[0mself\u001b[0m\u001b[0;34m.\u001b[0m\u001b[0m_executed\u001b[0m \u001b[0;34m=\u001b[0m \u001b[0mquery\u001b[0m\u001b[0;34m\u001b[0m\u001b[0m\n\u001b[1;32m    207\u001b[0m         \u001b[0;32mif\u001b[0m \u001b[0;32mnot\u001b[0m \u001b[0mself\u001b[0m\u001b[0;34m.\u001b[0m\u001b[0m_defer_warnings\u001b[0m\u001b[0;34m:\u001b[0m \u001b[0mself\u001b[0m\u001b[0;34m.\u001b[0m\u001b[0m_warning_check\u001b[0m\u001b[0;34m(\u001b[0m\u001b[0;34m)\u001b[0m\u001b[0;34m\u001b[0m\u001b[0m\n",
      "\u001b[0;32m/home/hui/anaconda2/lib/python2.7/site-packages/MySQLdb/connections.pyc\u001b[0m in \u001b[0;36mdefaulterrorhandler\u001b[0;34m(***failed resolving arguments***)\u001b[0m\n\u001b[1;32m     34\u001b[0m     \u001b[0;32mdel\u001b[0m \u001b[0mcursor\u001b[0m\u001b[0;34m\u001b[0m\u001b[0m\n\u001b[1;32m     35\u001b[0m     \u001b[0;32mdel\u001b[0m \u001b[0mconnection\u001b[0m\u001b[0;34m\u001b[0m\u001b[0m\n\u001b[0;32m---> 36\u001b[0;31m     \u001b[0;32mraise\u001b[0m \u001b[0merrorclass\u001b[0m\u001b[0;34m,\u001b[0m \u001b[0merrorvalue\u001b[0m\u001b[0;34m\u001b[0m\u001b[0m\n\u001b[0m\u001b[1;32m     37\u001b[0m \u001b[0;34m\u001b[0m\u001b[0m\n\u001b[1;32m     38\u001b[0m \u001b[0mre_numeric_part\u001b[0m \u001b[0;34m=\u001b[0m \u001b[0mre\u001b[0m\u001b[0;34m.\u001b[0m\u001b[0mcompile\u001b[0m\u001b[0;34m(\u001b[0m\u001b[0;34mr\"^(\\d+)\"\u001b[0m\u001b[0;34m)\u001b[0m\u001b[0;34m\u001b[0m\u001b[0m\n",
      "\u001b[0;31mIntegrityError\u001b[0m: (1062, \"Duplicate entry '2017-11-13-2017-11-13-ru0-ru0-1-1' for key 'PRIMARY'\")"
     ]
    }
   ],
   "source": [
    "filedir ='/hdd/ctp/day/'\n",
    "start_date = '20171113'\n",
    "end_date = '20171113'\n",
    "type = 1      # 1 for aggravated, 0 for rolling\n",
    "ticker1 = 'ru0'\n",
    "outputdir = u'/home/hui/文档/corr output/'\n",
    "lagLst = ['1s','5s','10s','30s','60s']\n",
    "periodLst = ['1s','5s','10s','30s','60s']\n",
    "\n",
    "# typelst = ['noble', 'nonferrous', 'black', 'farm', 'chemical', 'futures', 'loan']\n",
    "\n",
    "import pandas as pd\n",
    "import numpy as np\n",
    "import re\n",
    "import matplotlib.pylab as plt\n",
    "import seaborn as sns\n",
    "import os\n",
    "import gc\n",
    "import corrlab\n",
    "import MySQLdb\n",
    "\n",
    "\n",
    "def createTable():\n",
    "    conn = MySQLdb.connect(host = 'localhost',user='root',passwd='hhui123456')\n",
    "    cursor = conn.cursor()\n",
    "    cursor.execute(\"\"\"create database if not exists db_corr\"\"\")\n",
    "    conn.select_db('db_corr')\n",
    "    cursor.execute(\"\"\"create table if not exists tb_corr(\n",
    "    start_date DATE not null,\n",
    "    end_date DATE not null,\n",
    "    ticker1 varchar(32) not null,\n",
    "    ticker2 varchar(32) not null,\n",
    "    type SMALLINT not null DEFAULT 0, \n",
    "    period INT not null,\n",
    "    lag INT not null,\n",
    "    corr DOUBLE,\n",
    "    symbol1 varchar(32),\n",
    "    symbol2 varchar(32),\n",
    "    primary key(start_date, end_date, ticker1, ticker2, type, lag)\n",
    "    )\"\"\")\n",
    "\n",
    "createTable()\n",
    "\n",
    "\n",
    "conn = MySQLdb.connect(host='localhost', user='root', passwd='hhui123456')\n",
    "cursor = conn.cursor()\n",
    "conn.select_db('db_corr')\n",
    "\n",
    "\n",
    "res = pd.DataFrame()\n",
    "\n",
    "corr = corrlab.corrAna(filedir = filedir, start_date= start_date, end_date= end_date, type= type)\n",
    "dayLst = corr.generateDayLst()\n",
    "\n",
    "for day in dayLst:   # 时间跨度为1天\n",
    "    lst = []\n",
    "    lst.append(day)\n",
    "    data = corr.concatdata(lst)\n",
    "\n",
    "    symbol1 = corr.symbolDict[day][ticker1[:2]]\n",
    "    for lag in lagLst:\n",
    "        for period in periodLst:\n",
    "            res = pd.DataFrame()\n",
    "            temp = data.copy()\n",
    "            shifted = temp[ticker1].shift(-int(lag[:-1]), 's')\n",
    "            align_base = corr.get_align_base(data)\n",
    "            _, align_shifted = align_base.align(shifted, join='left', axis=0)\n",
    "            temp[ticker1] = align_shifted.values\n",
    "            temp = corr.sampledata(temp, period = period)\n",
    "            temp.fillna(method='ffill',inplace=True)\n",
    "            temp.fillna(method = 'bfill',inplace=True)\n",
    "            temp_corr = temp.corr().sort_index()\n",
    "            res = pd.concat([res,temp_corr[ticker1]])\n",
    "            res.rename(columns = {0:day},inplace=True)\n",
    "            res.fillna(-2,inplace=True)\n",
    "            print 'lag is : %s, period is %s' %(lag, period)\n",
    "            for ticker2 in temp_corr.index.values:\n",
    "                corr_value = res[day][ticker2]\n",
    "                ticker2 = ticker1.split('_')[0]\n",
    "                symbol2 = corr.symbolDict[day][ticker2[:2]]\n",
    "                cursor.execute(\"\"\"REPLACE INTO tb_corr(\n",
    "                            start_date,\n",
    "                            end_date,\n",
    "                            ticker1,\n",
    "                            symbol1,\n",
    "                            ticker2,\n",
    "                            symbol2,\n",
    "                            type,\n",
    "                            period,\n",
    "                            lag,\n",
    "                            corr)\n",
    "                            VALUES (\n",
    "                            '%s', '%s','%s','%s','%s','%s','%d','%d','%d','%.6f'\n",
    "                            )\n",
    "                            \"\"\" % (day, day, ticker1, symbol1, ticker2, symbol2, type,int(period[:-1]), int(lag[:-1]), corr_value))\n",
    "                conn.commit()\n"
   ]
  },
  {
   "cell_type": "code",
   "execution_count": null,
   "metadata": {},
   "outputs": [
    {
     "name": "stdout",
     "output_type": "stream",
     "text": [
      "lag is : 1s, period is 1s\n",
      "lag is : 1s, period is 5s\n",
      "lag is : 1s, period is 10s\n",
      "lag is : 1s, period is 30s\n",
      "lag is : 1s, period is 60s\n",
      "lag is : 5s, period is 1s\n",
      "lag is : 5s, period is 5s\n",
      "lag is : 5s, period is 10s\n",
      "lag is : 5s, period is 30s\n",
      "lag is : 5s, period is 60s\n"
     ]
    }
   ],
   "source": [
    "for day in dayLst:   # 时间跨度为1天\n",
    "    lst = []\n",
    "    lst.append(day)\n",
    "    data = corr.concatdata(lst)\n",
    "\n",
    "    symbol1 = corr.symbolDict[day][ticker1[:2]]\n",
    "    for lag in lagLst:\n",
    "        for period in periodLst:\n",
    "            res = pd.DataFrame()\n",
    "            temp = data.copy()\n",
    "            shifted = temp[ticker1].shift(-int(lag[:-1]), 's')\n",
    "            align_base = corr.get_align_base(data)\n",
    "            _, align_shifted = align_base.align(shifted, join='left', axis=0)\n",
    "            temp[ticker1] = align_shifted.values\n",
    "            temp = corr.sampledata(temp, period = period)\n",
    "            temp.fillna(method='ffill',inplace=True)\n",
    "            temp.fillna(method = 'bfill',inplace=True)\n",
    "            temp_corr = temp.corr().sort_index()\n",
    "            res = pd.concat([res,temp_corr[ticker1]])\n",
    "            res.rename(columns = {0:day},inplace=True)\n",
    "            res.fillna(-2,inplace=True)\n",
    "            print 'lag is : %s, period is %s' %(lag, period)\n",
    "            for ticker2 in temp_corr.index.values:\n",
    "                corr_value = res[day][ticker2]\n",
    "                ticker2 = ticker2.split('_')[0]\n",
    "                symbol2 = corr.symbolDict[day][ticker2[:2]]\n",
    "                cursor.execute(\"\"\"REPLACE INTO tb_corr(\n",
    "                            start_date,\n",
    "                            end_date,\n",
    "                            ticker1,\n",
    "                            symbol1,\n",
    "                            ticker2,\n",
    "                            symbol2,\n",
    "                            type,\n",
    "                            period,\n",
    "                            lag,\n",
    "                            corr)\n",
    "                            VALUES (\n",
    "                            '%s', '%s','%s','%s','%s','%s','%d','%d','%d','%.6f'\n",
    "                            )\n",
    "                            \"\"\" % (day, day, ticker1, symbol1, ticker2, symbol2, type,int(period[:-1]), int(lag[:-1]), corr_value))\n",
    "                conn.commit()"
   ]
  },
  {
   "cell_type": "code",
   "execution_count": 47,
   "metadata": {},
   "outputs": [
    {
     "data": {
      "text/plain": [
       "Index([u'CF0', u'FG0', u'IC0', u'IF0', u'IH0', u'MA0', u'OI0', u'RM0', u'SF0',\n",
       "       u'SM0', u'T10', u'TA0', u'TF0', u'ZC0', u'a10', u'ag0', u'al0', u'au0',\n",
       "       u'bu0', u'c10', u'cs0', u'cu0', u'hc0', u'i10', u'j10', u'jd0', u'jm0',\n",
       "       u'l10', u'm10', u'ni0', u'p10', u'pb0', u'pp0', u'rb0', u'ru0', u'sn0',\n",
       "       u'v10', u'y10', u'zn0'],\n",
       "      dtype='object')"
      ]
     },
     "execution_count": 47,
     "metadata": {},
     "output_type": "execute_result"
    }
   ],
   "source": [
    "temp_corr.index"
   ]
  },
  {
   "cell_type": "code",
   "execution_count": 45,
   "metadata": {},
   "outputs": [
    {
     "data": {
      "text/plain": [
       "5L"
      ]
     },
     "execution_count": 45,
     "metadata": {},
     "output_type": "execute_result"
    }
   ],
   "source": [
    "cursor.execute('select * from tb_corr')\n"
   ]
  },
  {
   "cell_type": "code",
   "execution_count": 46,
   "metadata": {},
   "outputs": [
    {
     "name": "stdout",
     "output_type": "stream",
     "text": [
      "(datetime.date(2017, 11, 13), datetime.date(2017, 11, 13), 'ru0', 'ru0', 1, 60L, 1L, 0.472855, 'ru1801', 'ru1801')\n",
      "(datetime.date(2017, 11, 13), datetime.date(2017, 11, 13), 'ru0', 'ru0', 1, 60L, 5L, 0.46623, 'ru1801', 'ru1801')\n",
      "(datetime.date(2017, 11, 13), datetime.date(2017, 11, 13), 'ru0', 'ru0', 1, 60L, 10L, 0.465898, 'ru1801', 'ru1801')\n",
      "(datetime.date(2017, 11, 13), datetime.date(2017, 11, 13), 'ru0', 'ru0', 1, 60L, 30L, 0.465102, 'ru1801', 'ru1801')\n",
      "(datetime.date(2017, 11, 13), datetime.date(2017, 11, 13), 'ru0', 'ru0', 1, 60L, 60L, 0.459677, 'ru1801', 'ru1801')\n"
     ]
    }
   ],
   "source": [
    "rec = cursor.fetchall()\n",
    "for i in rec:\n",
    "    print i"
   ]
  },
  {
   "cell_type": "code",
   "execution_count": 171,
   "metadata": {},
   "outputs": [
    {
     "data": {
      "text/plain": [
       "'SF0'"
      ]
     },
     "execution_count": 171,
     "metadata": {},
     "output_type": "execute_result"
    }
   ],
   "source": [
    "symbol"
   ]
  },
  {
   "cell_type": "code",
   "execution_count": null,
   "metadata": {
    "collapsed": true
   },
   "outputs": [],
   "source": []
  }
 ],
 "metadata": {
  "kernelspec": {
   "display_name": "Python 2",
   "language": "python",
   "name": "python2"
  },
  "language_info": {
   "codemirror_mode": {
    "name": "ipython",
    "version": 2
   },
   "file_extension": ".py",
   "mimetype": "text/x-python",
   "name": "python",
   "nbconvert_exporter": "python",
   "pygments_lexer": "ipython2",
   "version": "2.7.14"
  }
 },
 "nbformat": 4,
 "nbformat_minor": 2
}
