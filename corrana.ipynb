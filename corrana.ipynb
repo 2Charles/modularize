{
 "cells": [
  {
   "cell_type": "code",
   "execution_count": 1,
   "metadata": {
    "collapsed": true
   },
   "outputs": [],
   "source": [
    "#-*- coding:utf-8 -*-\n",
    "#need to input script like 'python corr_ana.py '20170910' '20170920' '5s'\n",
    "\n",
    "import pandas as pd\n",
    "import numpy as np\n",
    "import re\n",
    "import matplotlib.pylab as plt\n",
    "import seaborn as sns\n",
    "import os\n",
    "import corrlab\n",
    "\n",
    "\n",
    "# set parameters\n",
    "filedir ='/hdd/ctp/day/'\n",
    "start_date = '20171101'\n",
    "end_date = '20171130'\n",
    "type = 1      # 1 for aggravated, 0 for rolling, 2 for both\n",
    "ticker1 = 'ru0'\n",
    "lagLst = ['1s','5s','10s','30s','60s']\n",
    "periodLst = ['1s','5s','10s','30s','60s']\n",
    "\n",
    "outputdir = u'/home/hui/文档/output/'\n",
    "typelst = ['noble', 'nonferrous', 'black', 'farm', 'chemical', 'futures', 'loan']\n",
    "\n",
    "analst = ['ru','zn','rb','jm','j1']  #appointed analyst\n",
    "tempLst = []\n",
    "\n",
    "corr = corrlab.corrAna(filedir=filedir, start_date=start_date, end_date=end_date, type=type)\n",
    "\n",
    "dayLst = corr.generateDayLst()\n",
    "\n",
    "entire = pd.DataFrame()\n",
    "entire_1s, entire_5s, entire_10s = pd.DataFrame(), pd.DataFrame(), pd.DataFrame(),\n"
   ]
  },
  {
   "cell_type": "code",
   "execution_count": 2,
   "metadata": {},
   "outputs": [
    {
     "name": "stderr",
     "output_type": "stream",
     "text": [
      "/home/hui/anaconda2/lib/python2.7/site-packages/pandas/core/indexing.py:337: SettingWithCopyWarning: \n",
      "A value is trying to be set on a copy of a slice from a DataFrame.\n",
      "Try using .loc[row_indexer,col_indexer] = value instead\n",
      "\n",
      "See the caveats in the documentation: http://pandas.pydata.org/pandas-docs/stable/indexing.html#indexing-view-versus-copy\n",
      "  self.obj[key] = _infer_fill_value(value)\n",
      "/home/hui/anaconda2/lib/python2.7/site-packages/pandas/core/indexing.py:517: SettingWithCopyWarning: \n",
      "A value is trying to be set on a copy of a slice from a DataFrame.\n",
      "Try using .loc[row_indexer,col_indexer] = value instead\n",
      "\n",
      "See the caveats in the documentation: http://pandas.pydata.org/pandas-docs/stable/indexing.html#indexing-view-versus-copy\n",
      "  self.obj[item] = s\n"
     ]
    },
    {
     "name": "stdout",
     "output_type": "stream",
     "text": [
      "('20171101', 'calculate done')\n"
     ]
    },
    {
     "ename": "AttributeError",
     "evalue": "'corrAna' object has no attribute 'findNstElem'",
     "output_type": "error",
     "traceback": [
      "\u001b[0;31m---------------------------------------------------------------------------\u001b[0m",
      "\u001b[0;31mAttributeError\u001b[0m                            Traceback (most recent call last)",
      "\u001b[0;32m<ipython-input-2-8afd0825abd2>\u001b[0m in \u001b[0;36m<module>\u001b[0;34m()\u001b[0m\n\u001b[1;32m     39\u001b[0m         \u001b[0;31m# corrlab.saveFigCsv(appointed, freq = period, output_dir=outputdir+'rolling/appointed/201011/', date=day,fontsize = 20)\u001b[0m\u001b[0;34m\u001b[0m\u001b[0;34m\u001b[0m\u001b[0m\n\u001b[1;32m     40\u001b[0m \u001b[0;34m\u001b[0m\u001b[0m\n\u001b[0;32m---> 41\u001b[0;31m         \u001b[0mklargest\u001b[0m \u001b[0;34m=\u001b[0m \u001b[0mcorr\u001b[0m\u001b[0;34m.\u001b[0m\u001b[0mfindNstElem\u001b[0m\u001b[0;34m(\u001b[0m\u001b[0mdata\u001b[0m\u001b[0;34m,\u001b[0m \u001b[0mtarget\u001b[0m\u001b[0;34m,\u001b[0m \u001b[0mk\u001b[0m \u001b[0;34m=\u001b[0m \u001b[0mdata\u001b[0m\u001b[0;34m.\u001b[0m\u001b[0mshape\u001b[0m\u001b[0;34m[\u001b[0m\u001b[0;36m1\u001b[0m\u001b[0;34m]\u001b[0m\u001b[0;34m)\u001b[0m\u001b[0;34m\u001b[0m\u001b[0m\n\u001b[0m\u001b[1;32m     42\u001b[0m         \u001b[0mcorrlab\u001b[0m\u001b[0;34m.\u001b[0m\u001b[0msaveFigCsv\u001b[0m\u001b[0;34m(\u001b[0m\u001b[0mklargest\u001b[0m\u001b[0;34m,\u001b[0m\u001b[0mperiod\u001b[0m \u001b[0;34m=\u001b[0m \u001b[0mperiod\u001b[0m\u001b[0;34m,\u001b[0m \u001b[0moutput_dir\u001b[0m\u001b[0;34m=\u001b[0m\u001b[0moutputdir\u001b[0m\u001b[0;34m+\u001b[0m\u001b[0;34m'aggravated/klargest/'\u001b[0m\u001b[0;34m,\u001b[0m \u001b[0mdate\u001b[0m\u001b[0;34m=\u001b[0m\u001b[0mday\u001b[0m\u001b[0;34m,\u001b[0m\u001b[0mfontsize\u001b[0m \u001b[0;34m=\u001b[0m \u001b[0;36m10\u001b[0m\u001b[0;34m)\u001b[0m\u001b[0;34m\u001b[0m\u001b[0m\n\u001b[1;32m     43\u001b[0m         \u001b[0mentire\u001b[0m \u001b[0;34m=\u001b[0m \u001b[0mpd\u001b[0m\u001b[0;34m.\u001b[0m\u001b[0mconcat\u001b[0m\u001b[0;34m(\u001b[0m\u001b[0;34m[\u001b[0m\u001b[0mentire\u001b[0m\u001b[0;34m,\u001b[0m \u001b[0mklargest\u001b[0m\u001b[0;34m.\u001b[0m\u001b[0mcorr\u001b[0m\u001b[0;34m(\u001b[0m\u001b[0;34m)\u001b[0m\u001b[0;34m.\u001b[0m\u001b[0miloc\u001b[0m\u001b[0;34m[\u001b[0m\u001b[0;36m0\u001b[0m\u001b[0;34m,\u001b[0m \u001b[0;34m:\u001b[0m\u001b[0;34m]\u001b[0m\u001b[0;34m]\u001b[0m\u001b[0;34m)\u001b[0m\u001b[0;34m\u001b[0m\u001b[0m\n",
      "\u001b[0;31mAttributeError\u001b[0m: 'corrAna' object has no attribute 'findNstElem'"
     ]
    }
   ],
   "source": [
    "for day in dayLst:\n",
    "    lst = []\n",
    "    lst.append(day)\n",
    "\n",
    "    data = corr.concatdata(lst)\n",
    "    print (day, 'calculate done')\n",
    "    target = corr.getticker(data, ticker1)\n",
    "    one_sec = corr.sampledata(data,period = '1s')\n",
    "    one_sec_corr = one_sec.corr().sort_index()\n",
    "    entire_1s = pd.concat([entire_1s,one_sec_corr[target]],axis = 1)\n",
    "    entire_1s.rename(columns = {0:day},inplace=True)\n",
    "    entire_1s.rename(columns={target: day}, inplace=True)\n",
    "\n",
    "    five_sec = corr.sampledata(data, period='5s')\n",
    "    five_sec_corr = five_sec.corr().sort_index()\n",
    "    entire_5s = pd.concat([entire_5s, five_sec_corr[target]],axis = 1)\n",
    "    entire_5s.rename(columns={0: day},inplace=True)\n",
    "    entire_5s.rename(columns={target: day}, inplace=True)\n",
    "\n",
    "    ten_sec = corr.sampledata(data, period='10s')\n",
    "    ten_sec_corr = ten_sec.corr().sort_index()\n",
    "    entire_10s = pd.concat([entire_10s, ten_sec_corr[target]],axis =1 )\n",
    "    entire_10s.rename(columns={0: day},inplace=True)\n",
    "    entire_10s.rename(columns={target: day}, inplace=True)\n",
    "\n",
    "    for period in ['1s', '5s', '10s']:\n",
    "        data = corr.sampledata(data, period=period)\n",
    "        data.sort_index()\n",
    "        if type == 1:\n",
    "            corrlab.saveFigCsv(data, period, output_dir=u'/home/hui/文档/output/aggravated/single day/', date=day)\n",
    "        elif type == 2:\n",
    "            corrlab.saveFigCsv(data, period, output_dir=u'/home/hui/文档/output/rolling/single day/', date=day)\n",
    "\n",
    "        # tempLst = []\n",
    "        # for elem in analst:\n",
    "        #     temp = corr.getticker(data,elem)\n",
    "        #     tempLst.append(temp)\n",
    "        # appointed = data.loc[:,tempLst]\n",
    "        # corrlab.saveFigCsv(appointed, freq = period, output_dir=outputdir+'rolling/appointed/201011/', date=day,fontsize = 20)\n",
    "\n",
    "        klargest = corr.findNstElem(data, target, k = data.shape[1])\n",
    "        corrlab.saveFigCsv(klargest,period = period, output_dir=outputdir+'aggravated/klargest/', date=day,fontsize = 10)\n",
    "        entire = pd.concat([entire, klargest.corr().iloc[0, :]])\n",
    "        for typename in typelst:\n",
    "            single = corrlab.singleType(data, data.columns.values, period=period, typename=typename)\n",
    "            if type == 1:\n",
    "                corrlab.saveFigCsv(single, period, outputdir+'aggravated/single type/'+typename+'/', date=day,fontsize = 20,)\n",
    "            elif type == 2:\n",
    "                corrlab.saveFigCsv(single, period, outputdir + 'rolling/single type/' + typename + '/', date=day,\n",
    "                                   fontsize=20, )\n",
    "\n",
    "    print day, 'Done!'\n",
    "\n",
    "entire_1s.sort_index()\n",
    "entire_5s.sort_index()\n",
    "entire_10s.sort_index()\n",
    "if type == 1:\n",
    "    if not os.path.exists(u'/home/hui/文档/output/corr of ru/aggravated/'):\n",
    "        os.makedirs(u'/home/hui/文档/output/corr of ru/aggravated/')\n",
    "    entire_1s.to_csv(u'/home/hui/文档/output/corr of ru/aggravated/ru_1s.csv')\n",
    "    entire_5s.to_csv(u'/home/hui/文档/output/corr of ru/aggravated/ru_5s.csv')\n",
    "    entire_10s.to_csv(u'/home/hui/文档/output/corr of ru/aggravated/ru_10s.csv')\n",
    "elif type == 2:\n",
    "    if not os.path.exists(u'/home/hui/文档/output/corr of ru/rolling/'):\n",
    "        os.makedirs(u'/home/hui/文档/1201/corr of ru/rolling/')\n",
    "    entire_1s.to_csv(u'/home/hui/文档/1201/corr of ru/rolling/ru_1s.csv')\n",
    "    entire_5s.to_csv(u'/home/hui/文档/1201/corr of ru/rolling/ru_5s.csv')\n",
    "    entire_10s.to_csv(u'/home/hui/文档/1201/corr of ru/rolling/ru_10s.csv')\n"
   ]
  },
  {
   "cell_type": "code",
   "execution_count": null,
   "metadata": {
    "collapsed": true
   },
   "outputs": [],
   "source": []
  }
 ],
 "metadata": {
  "kernelspec": {
   "display_name": "Python 2",
   "language": "python",
   "name": "python2"
  },
  "language_info": {
   "codemirror_mode": {
    "name": "ipython",
    "version": 2
   },
   "file_extension": ".py",
   "mimetype": "text/x-python",
   "name": "python",
   "nbconvert_exporter": "python",
   "pygments_lexer": "ipython2",
   "version": "2.7.14"
  }
 },
 "nbformat": 4,
 "nbformat_minor": 2
}
